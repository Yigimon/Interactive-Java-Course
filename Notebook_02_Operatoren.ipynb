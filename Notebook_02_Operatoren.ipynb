{
 "cells": [
  {
   "cell_type": "markdown",
   "id": "e21584d5",
   "metadata": {},
   "source": [
    "# 🧮 Kapitel 2: Operatoren in Java\n",
    "\n",
    "## 🎯 Lernziele\n",
    "In diesem interaktiven Kapitel lernst du:\n",
    "- ✅ Arithmetische Operatoren verwenden (+, -, *, /, %)\n",
    "- ✅ Vergleichsoperatoren einsetzen (==, !=, <, >, <=, >=)\n",
    "- ✅ Logische Operatoren verstehen (&&, ||, !)\n",
    "- ✅ Zuweisungsoperatoren nutzen (=, +=, -=, etc.)\n",
    "- ✅ Operator-Prioritäten beachten\n",
    "- ✅ Praktische Berechnungen durchführen\n",
    "\n",
    "## 📖 Vorbereitung\n",
    "**Tipp:** Führe jede Code-Zelle einzeln aus und experimentiere mit den Werten!\n",
    "\n",
    "---"
   ]
  },
  {
   "cell_type": "markdown",
   "id": "9cc4226f",
   "metadata": {},
   "source": [
    "## 🔧 Java-Umgebung testen\n",
    "Starten wir mit einem einfachen Test, um sicherzustellen, dass Java funktioniert:"
   ]
  },
  {
   "cell_type": "code",
   "execution_count": null,
   "id": "3891b9ed",
   "metadata": {
    "vscode": {
     "languageId": "java"
    }
   },
   "outputs": [],
   "source": [
    "// Test der Java-Umgebung\n",
    "System.out.println(\"🚀 Java ist bereit für Operatoren!\");\n",
    "System.out.println(\"Version: \" + System.getProperty(\"java.version\"));\n",
    "System.out.println(\"===============================\");"
   ]
  },
  {
   "cell_type": "markdown",
   "id": "af5fd681",
   "metadata": {},
   "source": [
    "## 🔢 1. Arithmetische Operatoren\n",
    "\n",
    "Arithmetische Operatoren sind die \"Rechenzeichen\" aus der Mathematik:\n",
    "- `+` Addition\n",
    "- `-` Subtraktion  \n",
    "- `*` Multiplikation\n",
    "- `/` Division\n",
    "- `%` Modulo (Rest bei Division)\n",
    "\n",
    "**Lass uns sie ausprobieren:**"
   ]
  },
  {
   "cell_type": "code",
   "execution_count": null,
   "id": "df722766",
   "metadata": {
    "vscode": {
     "languageId": "java"
    }
   },
   "outputs": [],
   "source": [
    "// === ARITHMETISCHE OPERATOREN ===\n",
    "\n",
    "// Beispiel: Einkauf im Supermarkt\n",
    "int apfelPreis = 3;      // 3 Euro\n",
    "int bananePreis = 2;     // 2 Euro\n",
    "int anzahlAepfel = 4;\n",
    "int anzahlBananen = 6;\n",
    "\n",
    "System.out.println(\"🛒 EINKAUF IM SUPERMARKT\");\n",
    "System.out.println(\"========================\");\n",
    "\n",
    "// Addition\n",
    "int gesamtpreis = (apfelPreis * anzahlAepfel) + (bananePreis * anzahlBananen);\n",
    "System.out.println(\"Äpfel: \" + anzahlAepfel + \" x \" + apfelPreis + \"€ = \" + (apfelPreis * anzahlAepfel) + \"€\");\n",
    "System.out.println(\"Bananen: \" + anzahlBananen + \" x \" + bananePreis + \"€ = \" + (bananePreis * anzahlBananen) + \"€\");\n",
    "System.out.println(\"Gesamtpreis: \" + gesamtpreis + \"€\");\n",
    "\n",
    "// Subtraktion\n",
    "int geld = 30;\n",
    "int wechselgeld = geld - gesamtpreis;\n",
    "System.out.println(\"Bezahlt: \" + geld + \"€\");\n",
    "System.out.println(\"Wechselgeld: \" + wechselgeld + \"€\");\n",
    "\n",
    "// Division\n",
    "double durchschnittspreis = (double)gesamtpreis / (anzahlAepfel + anzahlBananen);\n",
    "System.out.println(\"Durchschnittspreis pro Frucht: \" + String.format(\"%.2f\", durchschnittspreis) + \"€\");\n",
    "\n",
    "// Modulo (Rest) - Anzahl Münzen\n",
    "System.out.println(\"\\n💰 MÜNZEN WECHSELN:\");\n",
    "int euros = wechselgeld;\n",
    "int fuenfEuroMuenzen = euros / 5;\n",
    "int restNachFuenf = euros % 5;\n",
    "int zweiEuroMuenzen = restNachFuenf / 2;\n",
    "int einEuroMuenzen = restNachFuenf % 2;\n",
    "\n",
    "System.out.println(\"5€-Münzen: \" + fuenfEuroMuenzen);\n",
    "System.out.println(\"2€-Münzen: \" + zweiEuroMuenzen);\n",
    "System.out.println(\"1€-Münzen: \" + einEuroMuenzen);"
   ]
  },
  {
   "cell_type": "markdown",
   "id": "e055d8e5",
   "metadata": {},
   "source": [
    "## 📊 2. Vergleichsoperatoren\n",
    "\n",
    "Vergleichsoperatoren prüfen Beziehungen zwischen Werten und geben `true` oder `false` zurück:\n",
    "- `==` gleich\n",
    "- `!=` ungleich\n",
    "- `>` größer als\n",
    "- `<` kleiner als  \n",
    "- `>=` größer oder gleich\n",
    "- `<=` kleiner oder gleich\n",
    "\n",
    "**Wichtig:** `=` (Zuweisung) vs. `==` (Vergleich)!"
   ]
  },
  {
   "cell_type": "code",
   "execution_count": null,
   "id": "4f138248",
   "metadata": {
    "vscode": {
     "languageId": "java"
    }
   },
   "outputs": [],
   "source": [
    "// === VERGLEICHSOPERATOREN ===\n",
    "\n",
    "// Beispiel: Notenbewertung\n",
    "int note1 = 85;\n",
    "int note2 = 92;\n",
    "int note3 = 68;\n",
    "int bestehensgrenze = 50;\n",
    "int sehrGutGrenze = 90;\n",
    "\n",
    "System.out.println(\"📚 NOTENBEWERTUNG\");\n",
    "System.out.println(\"=================\");\n",
    "System.out.println(\"Note 1: \" + note1);\n",
    "System.out.println(\"Note 2: \" + note2);\n",
    "System.out.println(\"Note 3: \" + note3);\n",
    "System.out.println(\"Bestehensgrenze: \" + bestehensgrenze);\n",
    "System.out.println();\n",
    "\n",
    "// Gleichheit und Ungleichheit\n",
    "System.out.println(\"VERGLEICHE:\");\n",
    "System.out.println(\"Note1 == Note2: \" + (note1 == note2));\n",
    "System.out.println(\"Note1 != Note2: \" + (note1 != note2));\n",
    "System.out.println();\n",
    "\n",
    "// Größer/Kleiner Vergleiche\n",
    "System.out.println(\"LEISTUNG:\");\n",
    "System.out.println(\"Note1 > Bestehensgrenze: \" + (note1 > bestehensgrenze));\n",
    "System.out.println(\"Note2 >= Sehr-Gut-Grenze: \" + (note2 >= sehrGutGrenze));\n",
    "System.out.println(\"Note3 < Note1: \" + (note3 < note1));\n",
    "System.out.println();\n",
    "\n",
    "// Praktische Anwendung\n",
    "System.out.println(\"STATUS:\");\n",
    "System.out.println(\"Note1 bestanden: \" + (note1 >= bestehensgrenze));\n",
    "System.out.println(\"Note2 sehr gut: \" + (note2 >= sehrGutGrenze));\n",
    "System.out.println(\"Note3 bestanden: \" + (note3 >= bestehensgrenze));\n",
    "\n",
    "// Beste Note finden\n",
    "boolean note1IstBeste = (note1 >= note2) && (note1 >= note3);\n",
    "boolean note2IstBeste = (note2 >= note1) && (note2 >= note3);\n",
    "System.out.println(\"Note1 ist beste: \" + note1IstBeste);\n",
    "System.out.println(\"Note2 ist beste: \" + note2IstBeste);"
   ]
  },
  {
   "cell_type": "markdown",
   "id": "2c4bc783",
   "metadata": {},
   "source": [
    "## 🧠 3. Logische Operatoren\n",
    "\n",
    "Logische Operatoren verknüpfen boolean-Werte:\n",
    "- `&&` UND (AND) - beide Bedingungen müssen wahr sein\n",
    "- `||` ODER (OR) - mindestens eine Bedingung muss wahr sein  \n",
    "- `!` NICHT (NOT) - kehrt den Wahrheitswert um\n",
    "\n",
    "**Eselsbrücken:**\n",
    "- `&&` = \"sowohl als auch\"\n",
    "- `||` = \"entweder oder\"\n",
    "- `!` = \"das Gegenteil\""
   ]
  },
  {
   "cell_type": "code",
   "execution_count": null,
   "id": "daa9c9be",
   "metadata": {
    "vscode": {
     "languageId": "java"
    }
   },
   "outputs": [],
   "source": [
    "// === LOGISCHE OPERATOREN ===\n",
    "\n",
    "// Beispiel: Login-System und Freizeitpark-Zugang\n",
    "System.out.println(\"🔐 LOGIN-SYSTEM\");\n",
    "System.out.println(\"===============\");\n",
    "\n",
    "String benutzername = \"admin\";\n",
    "String passwort = \"geheim123\";\n",
    "String eingegebenerName = \"admin\";\n",
    "String eingegebenesPasswort = \"geheim123\";\n",
    "\n",
    "// UND-Operator (&&): Beide Bedingungen müssen erfüllt sein\n",
    "boolean loginErfolgreich = (benutzername.equals(eingegebenerName)) && (passwort.equals(eingegebenesPasswort));\n",
    "System.out.println(\"Benutzername korrekt: \" + benutzername.equals(eingegebenerName));\n",
    "System.out.println(\"Passwort korrekt: \" + passwort.equals(eingegebenesPasswort));\n",
    "System.out.println(\"Login erfolgreich: \" + loginErfolgreich);\n",
    "\n",
    "System.out.println(\"\\n🎢 FREIZEITPARK-ZUGANG\");\n",
    "System.out.println(\"======================\");\n",
    "\n",
    "int alter = 16;\n",
    "boolean hatErlaubnis = true;\n",
    "boolean istWochenende = false;\n",
    "double geld = 25.50;\n",
    "double eintrittspreis = 20.0;\n",
    "\n",
    "// Verschiedene Kombinationen testen\n",
    "boolean altGenug = alter >= 16;\n",
    "boolean genugGeld = geld >= eintrittspreis;\n",
    "\n",
    "// UND: Alle Bedingungen müssen erfüllt sein\n",
    "boolean kannReinfahren = altGenug && genugGeld && hatErlaubnis;\n",
    "System.out.println(\"Alt genug (≥16): \" + altGenug);\n",
    "System.out.println(\"Genug Geld (≥20€): \" + genugGeld);\n",
    "System.out.println(\"Hat Erlaubnis: \" + hatErlaubnis);\n",
    "System.out.println(\"Kann reinfahren: \" + kannReinfahren);\n",
    "\n",
    "// ODER: Mindestens eine Bedingung muss erfüllt sein\n",
    "boolean rabattBerechtigt = (alter <= 12) || (alter >= 65) || istWochenende;\n",
    "System.out.println(\"Rabatt-berechtigt: \" + rabattBerechtigt);\n",
    "\n",
    "// NICHT: Umkehrung\n",
    "boolean keinRabatt = !rabattBerechtigt;\n",
    "System.out.println(\"Kein Rabatt: \" + keinRabatt);\n",
    "\n",
    "System.out.println(\"\\n🔍 KOMPLEXE BEDINGUNGEN\");\n",
    "System.out.println(\"=======================\");\n",
    "\n",
    "// Kombination aller Operatoren\n",
    "boolean sonderangebot = (istWochenende || (alter >= 18 && alter <= 25)) && genugGeld;\n",
    "System.out.println(\"Sonderangebot verfügbar: \" + sonderangebot);"
   ]
  },
  {
   "cell_type": "markdown",
   "id": "a74d4faf",
   "metadata": {},
   "source": [
    "## 🔄 4. Zuweisungsoperatoren & Inkrement/Dekrement\n",
    "\n",
    "**Zuweisungsoperatoren** machen Berechnungen effizienter:\n",
    "- `+=` entspricht `x = x + wert`\n",
    "- `-=` entspricht `x = x - wert`\n",
    "- `*=` entspricht `x = x * wert`\n",
    "- `/=` entspricht `x = x / wert`\n",
    "\n",
    "**Inkrement/Dekrement:**\n",
    "- `++` erhöht um 1\n",
    "- `--` verringert um 1\n",
    "\n",
    "**Präfix vs. Postfix:** `++x` (erst erhöhen, dann verwenden) vs. `x++` (erst verwenden, dann erhöhen)"
   ]
  },
  {
   "cell_type": "code",
   "execution_count": null,
   "id": "a2665ca0",
   "metadata": {
    "vscode": {
     "languageId": "java"
    }
   },
   "outputs": [],
   "source": [
    "// === ZUWEISUNGSOPERATOREN ===\n",
    "\n",
    "// Beispiel: Spiel-Punktestand\n",
    "System.out.println(\"🎮 SPIEL-PUNKTESTAND\");\n",
    "System.out.println(\"====================\");\n",
    "\n",
    "int punkte = 100;\n",
    "int leben = 3;\n",
    "int level = 1;\n",
    "\n",
    "System.out.println(\"START:\");\n",
    "System.out.println(\"Punkte: \" + punkte + \", Leben: \" + leben + \", Level: \" + level);\n",
    "\n",
    "// Kombinierte Zuweisungsoperatoren\n",
    "System.out.println(\"\\n📈 AKTIONEN:\");\n",
    "\n",
    "// Punkte sammeln (+= statt punkte = punkte + 50)\n",
    "punkte += 50;\n",
    "System.out.println(\"Münze gefunden! Punkte += 50 → \" + punkte);\n",
    "\n",
    "// Bonus verdoppeln (*= statt punkte = punkte * 2)\n",
    "punkte *= 2;\n",
    "System.out.println(\"Bonus aktiviert! Punkte *= 2 → \" + punkte);\n",
    "\n",
    "// Strafe (-= statt punkte = punkte - 30)\n",
    "punkte -= 30;\n",
    "System.out.println(\"Fehler gemacht! Punkte -= 30 → \" + punkte);\n",
    "\n",
    "// Division durch Level (/= statt punkte = punkte / level)\n",
    "int tempPunkte = punkte;\n",
    "tempPunkte /= 2;\n",
    "System.out.println(\"Hypothetisch: Punkte /= 2 → \" + tempPunkte + \" (nicht angewendet)\");\n",
    "\n",
    "System.out.println(\"\\n⬆️⬇️ INKREMENT & DEKREMENT:\");\n",
    "\n",
    "// Inkrement/Dekrement\n",
    "System.out.println(\"Aktuelles Level: \" + level);\n",
    "\n",
    "// Präfix: erst erhöhen, dann verwenden\n",
    "System.out.println(\"Level up! ++level = \" + (++level));\n",
    "\n",
    "// Postfix: erst verwenden, dann erhöhen\n",
    "int aktuellesLevel = level++;\n",
    "System.out.println(\"Nächster Level gespeichert: level++ → gespeichert: \" + aktuellesLevel + \", level jetzt: \" + level);\n",
    "\n",
    "// Leben verlieren\n",
    "System.out.println(\"Leben vor Schaden: \" + leben);\n",
    "leben--;\n",
    "System.out.println(\"Schaden erhalten! leben-- → \" + leben);\n",
    "\n",
    "// Demonstation Präfix vs. Postfix\n",
    "int a = 5;\n",
    "int b = 5;\n",
    "System.out.println(\"\\n🔍 PRÄFIX vs. POSTFIX:\");\n",
    "System.out.println(\"a = \" + a + \", b = \" + b);\n",
    "\n",
    "int ergebnis1 = ++a;  // a wird erst erhöht (6), dann zugewiesen\n",
    "int ergebnis2 = b++;  // b wird erst zugewiesen (5), dann erhöht\n",
    "\n",
    "System.out.println(\"++a → ergebnis1 = \" + ergebnis1 + \", a = \" + a);\n",
    "System.out.println(\"b++ → ergebnis2 = \" + ergebnis2 + \", b = \" + b);\n",
    "\n",
    "System.out.println(\"\\n🏆 FINAL:\");\n",
    "System.out.println(\"Punkte: \" + punkte + \", Leben: \" + leben + \", Level: \" + level);"
   ]
  },
  {
   "cell_type": "markdown",
   "id": "5c491fb9",
   "metadata": {},
   "source": [
    "## 🎯 5. Operator-Prioritäten (Vorfahrtsregeln)\n",
    "\n",
    "Wie in der Mathematik gibt es auch in Java eine **Reihenfolge** der Auswertung:\n",
    "\n",
    "1. **Klammern** `()`\n",
    "2. **Inkrement/Dekrement** `++`, `--`  \n",
    "3. **Punkt-vor-Strich** `*`, `/`, `%`\n",
    "4. **Plus/Minus** `+`, `-`\n",
    "5. **Vergleiche** `<`, `>`, `<=`, `>=`\n",
    "6. **Gleichheit** `==`, `!=`\n",
    "7. **Logisches UND** `&&`\n",
    "8. **Logisches ODER** `||`\n",
    "9. **Zuweisung** `=`, `+=`, etc.\n",
    "\n",
    "**Faustregel:** Im Zweifel Klammern setzen!"
   ]
  },
  {
   "cell_type": "code",
   "execution_count": null,
   "id": "9af6e234",
   "metadata": {
    "vscode": {
     "languageId": "java"
    }
   },
   "outputs": [],
   "source": [
    "// === OPERATOR-PRIORITÄTEN ===\n",
    "\n",
    "System.out.println(\"🎯 RATE DAS ERGEBNIS!\");\n",
    "System.out.println(\"====================\");\n",
    "\n",
    "// Beispiel 1: Punkt vor Strich\n",
    "System.out.println(\"Was ergibt: 2 + 3 * 4?\");\n",
    "int ergebnis1 = 2 + 3 * 4;  // Erst 3*4=12, dann 2+12=14\n",
    "System.out.println(\"Ergebnis: \" + ergebnis1 + \" (nicht 20!)\");\n",
    "System.out.println(\"Reihenfolge: 3 * 4 = 12, dann 2 + 12 = 14\");\n",
    "\n",
    "// Mit Klammern ändern\n",
    "int ergebnis1b = (2 + 3) * 4;  // Erst 2+3=5, dann 5*4=20\n",
    "System.out.println(\"Mit Klammern (2 + 3) * 4 = \" + ergebnis1b);\n",
    "\n",
    "System.out.println(\"\\n📊 KOMPLEXERE BEISPIELE:\");\n",
    "\n",
    "// Beispiel 2: Mehrere Operatoren\n",
    "System.out.println(\"Was ergibt: 10 - 6 / 2 + 3?\");\n",
    "int ergebnis2 = 10 - 6 / 2 + 3;  // 10 - 3 + 3 = 10\n",
    "System.out.println(\"Ergebnis: \" + ergebnis2);\n",
    "System.out.println(\"Reihenfolge: 6/2=3, dann 10-3+3=10\");\n",
    "\n",
    "// Beispiel 3: Vergleiche und Logik\n",
    "boolean alter = 16;\n",
    "boolean geld = 25;\n",
    "boolean eintrittspreis = 20;\n",
    "System.out.println(\"\\nLogische Auswertung:\");\n",
    "System.out.println(\"Alter: \" + alter + \", Geld: \" + geld + \", Eintrittspreis: \" + eintrittspreis);\n",
    "\n",
    "boolean kannRein = alter >= 16 && geld >= eintrittspreis;\n",
    "System.out.println(\"alter >= 16 && geld >= eintrittspreis = \" + kannRein);\n",
    "System.out.println(\"Reihenfolge: erst >=, dann &&\");\n",
    "\n",
    "// Beispiel 4: Gemischte Operatoren  \n",
    "System.out.println(\"\\n🧮 TASCHENRECHNER-SIMULATION:\");\n",
    "int x = 5;\n",
    "int y = 3;\n",
    "int z = 2;\n",
    "\n",
    "System.out.println(\"x = \" + x + \", y = \" + y + \", z = \" + z);\n",
    "\n",
    "// Komplex aussehender Ausdruck\n",
    "int komplex = x + y * z - x / z + y % z;\n",
    "System.out.println(\"x + y * z - x / z + y % z = \" + komplex);\n",
    "System.out.println(\"Schritt für Schritt:\");\n",
    "System.out.println(\"  y * z = \" + (y * z));\n",
    "System.out.println(\"  x / z = \" + (x / z));  \n",
    "System.out.println(\"  y % z = \" + (y % z));\n",
    "System.out.println(\"  \" + x + \" + \" + (y*z) + \" - \" + (x/z) + \" + \" + (y%z) + \" = \" + komplex);\n",
    "\n",
    "// Klammern machen alles klar\n",
    "int mitKlammern = (x + y) * (z - x) / (z + y % z);\n",
    "System.out.println(\"\\nMit Klammern: (x + y) * (z - x) / (z + y % z) = \" + mitKlammern);\n",
    "\n",
    "System.out.println(\"\\n💡 TIPP: Nutze Klammern für Klarheit!\");"
   ]
  },
  {
   "cell_type": "markdown",
   "id": "36e498a2",
   "metadata": {},
   "source": [
    "## 🏋️ 6. Aufgaben zum Üben\n",
    "\n",
    "**Aufgabe 1: Taschenrechner**\n",
    "Erstelle einen einfachen Taschenrechner für zwei Zahlen mit allen Grundrechenarten.\n",
    "\n",
    "**Aufgabe 2: BMI-Rechner**\n",
    "Berechne den Body-Mass-Index (BMI = Gewicht / (Größe * Größe)) und bewerte das Ergebnis.\n",
    "\n",
    "**Aufgabe 3: Schaltjahr-Prüfung**\n",
    "Ein Jahr ist ein Schaltjahr, wenn es durch 4 teilbar ist, aber nicht durch 100, außer es ist auch durch 400 teilbar.\n",
    "\n",
    "**Aufgabe 4: Preisberechnung**\n",
    "Berechne einen Gesamtpreis mit Rabatt und Mehrwertsteuer."
   ]
  },
  {
   "cell_type": "code",
   "execution_count": null,
   "id": "d0dd43b0",
   "metadata": {
    "vscode": {
     "languageId": "java"
    }
   },
   "outputs": [],
   "source": [
    "// 🧮 AUFGABE 1: TASCHENRECHNER\n",
    "// Vervollständige den Code!\n",
    "\n",
    "double zahl1 = 15.5;\n",
    "double zahl2 = 4.2;\n",
    "\n",
    "System.out.println(\"🧮 TASCHENRECHNER\");\n",
    "System.out.println(\"=================\");\n",
    "System.out.println(\"Zahl 1: \" + zahl1);\n",
    "System.out.println(\"Zahl 2: \" + zahl2);\n",
    "System.out.println();\n",
    "\n",
    "// TODO: Berechne und zeige alle Grundrechenarten\n",
    "double summe = zahl1 + zahl2;\n",
    "double differenz = zahl1 - zahl2;\n",
    "// TODO: Ergänze Multiplikation, Division und Modulo\n",
    "\n",
    "System.out.println(\"Addition: \" + zahl1 + \" + \" + zahl2 + \" = \" + summe);\n",
    "System.out.println(\"Subtraktion: \" + zahl1 + \" - \" + zahl2 + \" = \" + differenz);\n",
    "// TODO: Ergänze die anderen Ausgaben\n",
    "\n",
    "// BONUS: Tausche die Werte von zahl1 und zahl2 mit Operatoren\n",
    "// (ohne eine dritte Variable zu verwenden)"
   ]
  },
  {
   "cell_type": "code",
   "execution_count": null,
   "id": "01c60a84",
   "metadata": {
    "vscode": {
     "languageId": "java"
    }
   },
   "outputs": [],
   "source": [
    "// ⚖️ AUFGABE 2: BMI-RECHNER\n",
    "// Body-Mass-Index = Gewicht (kg) / (Größe (m) * Größe (m))\n",
    "\n",
    "double gewicht = 70.5;  // in kg\n",
    "double groesse = 1.75;  // in Metern\n",
    "\n",
    "System.out.println(\"⚖️ BMI-RECHNER\");\n",
    "System.out.println(\"==============\");\n",
    "System.out.println(\"Gewicht: \" + gewicht + \" kg\");\n",
    "System.out.println(\"Größe: \" + groesse + \" m\");\n",
    "\n",
    "// TODO: Berechne den BMI\n",
    "double bmi = gewicht / (groesse * groesse);\n",
    "System.out.println(\"BMI: \" + String.format(\"%.1f\", bmi));\n",
    "\n",
    "// TODO: Bewerte den BMI mit logischen Operatoren\n",
    "boolean untergewicht = bmi < 18.5;\n",
    "boolean normalgewicht = bmi >= 18.5 && bmi < 25.0;\n",
    "boolean uebergewicht = bmi >= 25.0 && bmi < 30.0;\n",
    "boolean adipositas = bmi >= 30.0;\n",
    "\n",
    "System.out.println(\"\\n📊 BEWERTUNG:\");\n",
    "System.out.println(\"Untergewicht (< 18.5): \" + untergewicht);\n",
    "System.out.println(\"Normalgewicht (18.5-24.9): \" + normalgewicht);\n",
    "// TODO: Ergänze die anderen Bewertungen\n",
    "\n",
    "// BONUS: Erstelle eine Empfehlung basierend auf dem BMI"
   ]
  },
  {
   "cell_type": "code",
   "execution_count": null,
   "id": "002aeca6",
   "metadata": {
    "vscode": {
     "languageId": "java"
    }
   },
   "outputs": [],
   "source": [
    "// 📅 AUFGABE 3: SCHALTJAHR-PRÜFUNG\n",
    "// Regel: Teilbar durch 4 UND (NICHT teilbar durch 100 ODER teilbar durch 400)\n",
    "\n",
    "int jahr = 2024;  // Ändere diesen Wert zum Testen!\n",
    "\n",
    "System.out.println(\"📅 SCHALTJAHR-PRÜFUNG\");\n",
    "System.out.println(\"=====================\");\n",
    "System.out.println(\"Jahr: \" + jahr);\n",
    "\n",
    "// TODO: Prüfe die einzelnen Bedingungen\n",
    "boolean teilbarDurch4 = (jahr % 4 == 0);\n",
    "boolean teilbarDurch100 = (jahr % 100 == 0);\n",
    "boolean teilbarDurch400 = (jahr % 400 == 0);\n",
    "\n",
    "System.out.println(\"Teilbar durch 4: \" + teilbarDurch4);\n",
    "System.out.println(\"Teilbar durch 100: \" + teilbarDurch100);\n",
    "System.out.println(\"Teilbar durch 400: \" + teilbarDurch400);\n",
    "\n",
    "// TODO: Kombiniere die Bedingungen für Schaltjahr\n",
    "boolean istSchaltjahr = teilbarDurch4 && (!teilbarDurch100 || teilbarDurch400);\n",
    "\n",
    "System.out.println(\"\\n🎯 ERGEBNIS:\");\n",
    "System.out.println(jahr + \" ist ein Schaltjahr: \" + istSchaltjahr);\n",
    "\n",
    "// Teste weitere Jahre\n",
    "System.out.println(\"\\n🧪 WEITERE TESTS:\");\n",
    "int[] testJahre = {2000, 1900, 2020, 2021, 2100};\n",
    "for (int testJahr : testJahre) {\n",
    "    boolean test = (testJahr % 4 == 0) && (!(testJahr % 100 == 0) || (testJahr % 400 == 0));\n",
    "    System.out.println(testJahr + \": \" + test);\n",
    "}"
   ]
  },
  {
   "cell_type": "markdown",
   "id": "978752a5",
   "metadata": {},
   "source": [
    "## 🧪 7. Experimentierbereich\n",
    "\n",
    "**Hier kannst du eigene Operatoren-Experimente machen!**\n",
    "\n",
    "Probiere aus:\n",
    "- Verschiedene Kombinationen von Operatoren\n",
    "- Rate-das-Ergebnis-Spiele  \n",
    "- Eigene praktische Anwendungen\n",
    "- Teste die Operator-Prioritäten\n",
    "\n",
    "**Ideen für Experimente:**\n",
    "- Temperatur-Umrechnung (Celsius ↔ Fahrenheit)\n",
    "- Prozentrechnung\n",
    "- Zeitumrechnung (Sekunden → Stunden:Minuten:Sekunden)\n",
    "- Geometrische Berechnungen"
   ]
  },
  {
   "cell_type": "code",
   "execution_count": null,
   "id": "37ad8689",
   "metadata": {
    "vscode": {
     "languageId": "java"
    }
   },
   "outputs": [],
   "source": [
    "// 🧪 EXPERIMENTIERBEREICH\n",
    "// Hier kannst du eigene Operatoren-Experimente machen!\n",
    "\n",
    "// Beispiel: Temperatur-Umrechnung\n",
    "double celsius = 25.0;\n",
    "double fahrenheit = celsius * 9.0 / 5.0 + 32.0;\n",
    "System.out.println(celsius + \"°C = \" + fahrenheit + \"°F\");\n",
    "\n",
    "// TODO: Deine eigenen Experimente hier!"
   ]
  },
  {
   "cell_type": "code",
   "execution_count": null,
   "id": "7b05d3f7",
   "metadata": {
    "vscode": {
     "languageId": "java"
    }
   },
   "outputs": [],
   "source": [
    "// 🧪 Experimentierbereich - Probiere hier eigene Operatoren aus!\n",
    "\n",
    "// Dein Code hier..."
   ]
  }
 ],
 "metadata": {
  "language_info": {
   "name": "python"
  }
 },
 "nbformat": 4,
 "nbformat_minor": 5
}
