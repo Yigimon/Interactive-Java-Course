{
 "cells": [
  {
   "cell_type": "markdown",
   "id": "99fbe8bd",
   "metadata": {},
   "source": [
    "# 🤔 Kapitel 4: Kontrollstrukturen in Java\n",
    "\n",
    "## 🎯 Lernziele\n",
    "In diesem interaktiven Kapitel lernst du:\n",
    "- ✅ Mit `if-else` Entscheidungen treffen\n",
    "- ✅ Mehrfache Verzweigungen mit `else if` erstellen\n",
    "- ✅ `switch`-Anweisungen für multiple Optionen verwenden\n",
    "- ✅ Verschachtelte Bedingungen verstehen und anwenden\n",
    "- ✅ Ternäre Operatoren (`? :`) für kurze Entscheidungen nutzen\n",
    "\n",
    "## 🌟 Warum sind Kontrollstrukturen wichtig?\n",
    "Ohne Kontrollstrukturen würde dein Programm nur stumpf von oben nach unten laufen. Mit ihnen kann dein Code **Entscheidungen treffen** und **intelligent reagieren**!\n",
    "\n",
    "---"
   ]
  },
  {
   "cell_type": "markdown",
   "id": "16c14ebe",
   "metadata": {},
   "source": [
    "## 🔧 Java-Umgebung testen\n",
    "Starten wir mit einem einfachen Test der Entscheidungslogik:"
   ]
  },
  {
   "cell_type": "code",
   "execution_count": null,
   "id": "3797ddc7",
   "metadata": {
    "vscode": {
     "languageId": "java"
    }
   },
   "outputs": [],
   "source": [
    "// Test der Entscheidungslogik\n",
    "System.out.println(\"🤔 Java Kontrollstrukturen sind bereit!\");\n",
    "System.out.println(\"=====================================\");\n",
    "\n",
    "// Einfacher Test\n",
    "int alter = 16;\n",
    "if (alter >= 18) {\n",
    "    System.out.println(\"Du bist volljährig! 🎉\");\n",
    "} else {\n",
    "    System.out.println(\"Du bist noch minderjährig. 👶\");\n",
    "}\n",
    "\n",
    "System.out.println(\"✅ Grundlegende Entscheidungen funktionieren!\");"
   ]
  },
  {
   "cell_type": "markdown",
   "id": "37516aeb",
   "metadata": {},
   "source": [
    "## 🤔 1. If-Else: Die Grundlage aller Entscheidungen\n",
    "\n",
    "### Syntax:\n",
    "```java\n",
    "if (bedingung) {\n",
    "    // Code, wenn bedingung true ist\n",
    "} else {\n",
    "    // Code, wenn bedingung false ist\n",
    "}\n",
    "```\n",
    "\n",
    "**If-Else ist wie eine Weiche auf Bahngleisen - je nach Bedingung geht es in eine andere Richtung!**"
   ]
  },
  {
   "cell_type": "code",
   "execution_count": null,
   "id": "0bc90fc7",
   "metadata": {
    "vscode": {
     "languageId": "java"
    }
   },
   "outputs": [],
   "source": [
    "// === IF-ELSE BEISPIELE ===\n",
    "\n",
    "System.out.println(\"📚 NOTENKLASSIFIKATION\");\n",
    "System.out.println(\"======================\");\n",
    "\n",
    "// Beispiel 1: Einfaches if-else\n",
    "double note = 2.3;\n",
    "System.out.println(\"Deine Note: \" + note);\n",
    "\n",
    "if (note <= 2.5) {\n",
    "    System.out.println(\"🎉 Gut gemacht!\");\n",
    "} else {\n",
    "    System.out.println(\"📚 Da geht noch was!\");\n",
    "}\n",
    "\n",
    "// Beispiel 2: Mehrfache Verzweigungen mit else if\n",
    "System.out.println(\"\\n📊 DETAILLIERTE BEWERTUNG:\");\n",
    "int punkte = 87;\n",
    "\n",
    "if (punkte >= 90) {\n",
    "    System.out.println(\"⭐ Sehr gut! (\" + punkte + \" Punkte)\");\n",
    "} else if (punkte >= 80) {\n",
    "    System.out.println(\"👍 Gut! (\" + punkte + \" Punkte)\");\n",
    "} else if (punkte >= 70) {\n",
    "    System.out.println(\"👌 Befriedigend (\" + punkte + \" Punkte)\");\n",
    "} else if (punkte >= 60) {\n",
    "    System.out.println(\"✔️ Ausreichend (\" + punkte + \" Punkte)\");\n",
    "} else {\n",
    "    System.out.println(\"❌ Nicht bestanden (\" + punkte + \" Punkte)\");\n",
    "}\n",
    "\n",
    "// Beispiel 3: Login-System\n",
    "System.out.println(\"\\n🔐 LOGIN-SYSTEM:\");\n",
    "String benutzername = \"admin\";\n",
    "String passwort = \"geheim123\";\n",
    "String eingabeName = \"admin\";\n",
    "String eingabePasswort = \"geheim123\";\n",
    "\n",
    "if (benutzername.equals(eingabeName) && passwort.equals(eingabePasswort)) {\n",
    "    System.out.println(\"✅ Login erfolgreich! Willkommen \" + benutzername);\n",
    "} else {\n",
    "    System.out.println(\"❌ Login fehlgeschlagen! Benutzername oder Passwort falsch\");\n",
    "}"
   ]
  },
  {
   "cell_type": "markdown",
   "id": "985fd46e",
   "metadata": {},
   "source": [
    "## 🎯 2. Switch-Anweisung: Der Mehrfach-Schalter\n",
    "\n",
    "### Wann Switch verwenden?\n",
    "- Bei **vielen gleichwertigen Optionen**\n",
    "- Sauberer als viele `else if`-Anweisungen\n",
    "- Funktioniert mit `int`, `char`, `String`, `enum`\n",
    "\n",
    "### Syntax:\n",
    "```java\n",
    "switch (variable) {\n",
    "    case wert1:\n",
    "        // Code für wert1\n",
    "        break;\n",
    "    case wert2:\n",
    "        // Code für wert2\n",
    "        break;\n",
    "    default:\n",
    "        // Code für alle anderen Fälle\n",
    "        break;\n",
    "}\n",
    "```\n",
    "\n",
    "**⚠️ Wichtig: `break` nicht vergessen, sonst läuft der Code weiter!**"
   ]
  },
  {
   "cell_type": "markdown",
   "id": "58a3f427",
   "metadata": {},
   "source": [
    "## 🔄 Ternärer Operator\n",
    "\n",
    "Der ternäre Operator ist eine verkürzte Form der if-else-Anweisung:\n",
    "\n",
    "```java\n",
    "Bedingung ? Wert_wenn_wahr : Wert_wenn_falsch\n",
    "```"
   ]
  },
  {
   "cell_type": "code",
   "execution_count": null,
   "id": "347ff4df",
   "metadata": {
    "vscode": {
     "languageId": "java"
    }
   },
   "outputs": [],
   "source": [
    "// Ternärer Operator Beispiele\n",
    "int a = 10;\n",
    "int b = 20;\n",
    "\n",
    "// Statt if-else:\n",
    "String vergleich1;\n",
    "if (a > b) {\n",
    "    vergleich1 = \"a ist größer\";\n",
    "} else {\n",
    "    vergleich1 = \"b ist größer oder gleich\";\n",
    "}\n",
    "\n",
    "// Mit ternärem Operator:\n",
    "String vergleich2 = (a > b) ? \"a ist größer\" : \"b ist größer oder gleich\";\n",
    "\n",
    "System.out.println(\"Normale if-else: \" + vergleich1);\n",
    "System.out.println(\"Ternärer Operator: \" + vergleich2);\n",
    "\n",
    "// Weitere Beispiele\n",
    "int alter = 17;\n",
    "String status = (alter >= 18) ? \"volljährig\" : \"minderjährig\";\n",
    "System.out.println(\"Status: \" + status);\n",
    "\n",
    "// Verschachtelt (vorsichtig verwenden!)\n",
    "int punkte = 85;\n",
    "String note = (punkte >= 90) ? \"sehr gut\" : \n",
    "              (punkte >= 80) ? \"gut\" : \n",
    "              (punkte >= 70) ? \"befriedigend\" : \"ausreichend\";\n",
    "System.out.println(\"Note: \" + note);"
   ]
  },
  {
   "cell_type": "markdown",
   "id": "4489db42",
   "metadata": {},
   "source": [
    "## 🎯 Aufgaben zum Üben\n",
    "\n",
    "### Aufgabe 1: Notenbewertung\n",
    "Schreibe ein Programm, das eine Punktzahl (0-100) einliest und die entsprechende Note ausgibt:\n",
    "- 90-100: \"Sehr gut\"\n",
    "- 80-89: \"Gut\"  \n",
    "- 70-79: \"Befriedigend\"\n",
    "- 60-69: \"Ausreichend\"\n",
    "- unter 60: \"Nicht bestanden\"\n",
    "\n",
    "Verwende sowohl if-else als auch switch-case!"
   ]
  },
  {
   "cell_type": "code",
   "execution_count": null,
   "id": "b1fefc78",
   "metadata": {
    "vscode": {
     "languageId": "java"
    }
   },
   "outputs": [],
   "source": [
    "// 🚀 Lösungsbereich für Aufgabe 1\n",
    "// Schreibe hier deine Lösung:\n",
    "\n",
    "int punkte = 85; // Ändere diesen Wert zum Testen\n",
    "\n",
    "// Lösung mit if-else:\n",
    "System.out.println(\"=== IF-ELSE Lösung ===\");\n",
    "if (punkte >= 90) {\n",
    "    System.out.println(\"Sehr gut\");\n",
    "} else if (punkte >= 80) {\n",
    "    System.out.println(\"Gut\");\n",
    "} else if (punkte >= 70) {\n",
    "    System.out.println(\"Befriedigend\");\n",
    "} else if (punkte >= 60) {\n",
    "    System.out.println(\"Ausreichend\");\n",
    "} else {\n",
    "    System.out.println(\"Nicht bestanden\");\n",
    "}\n",
    "\n",
    "// Lösung mit switch-case (weniger elegant bei Bereichen):\n",
    "System.out.println(\"\\n=== SWITCH-CASE Lösung ===\");\n",
    "int noteKategorie = punkte / 10; // Ganzzahldivision\n",
    "switch (noteKategorie) {\n",
    "    case 10:\n",
    "    case 9:\n",
    "        System.out.println(\"Sehr gut\");\n",
    "        break;\n",
    "    case 8:\n",
    "        System.out.println(\"Gut\");\n",
    "        break;\n",
    "    case 7:\n",
    "        System.out.println(\"Befriedigend\");\n",
    "        break;\n",
    "    case 6:\n",
    "        System.out.println(\"Ausreichend\");\n",
    "        break;\n",
    "    default:\n",
    "        System.out.println(\"Nicht bestanden\");\n",
    "}"
   ]
  },
  {
   "cell_type": "markdown",
   "id": "8fee8998",
   "metadata": {},
   "source": [
    "### Aufgabe 2: Wochentag-Check\n",
    "Erstelle ein Programm, das prüft, ob ein eingegebener Tag (1-7) ein Wochentag oder Wochenende ist.\n",
    "\n",
    "### Aufgabe 3: Zahlen-Analyse\n",
    "Schreibe ein Programm, das eine Zahl analysiert:\n",
    "- Ist sie positiv, negativ oder null?\n",
    "- Ist sie gerade oder ungerade?\n",
    "- Ist sie durch 3 teilbar?\n",
    "\n",
    "## 🧪 Experimentierbereich\n",
    "Hier kannst du eigene Kontrollstrukturen ausprobieren:"
   ]
  },
  {
   "cell_type": "code",
   "execution_count": null,
   "id": "5ac1679f",
   "metadata": {
    "vscode": {
     "languageId": "java"
    }
   },
   "outputs": [],
   "source": [
    "// 🧪 Experimentierbereich - Teste deine eigenen Ideen!\n",
    "// Versuche verschiedene Kombinationen von if-else, switch und ternären Operatoren\n",
    "\n",
    "int testZahl = 42;\n",
    "System.out.println(\"Analysiere die Zahl: \" + testZahl);\n",
    "\n",
    "// Dein Code hier..."
   ]
  },
  {
   "cell_type": "code",
   "execution_count": null,
   "id": "a79e265a",
   "metadata": {
    "vscode": {
     "languageId": "java"
    }
   },
   "outputs": [],
   "source": [
    "// 🧪 Experimentierbereich - Probiere hier eigene Kontrollstrukturen aus!\n",
    "\n",
    "// Dein Code hier..."
   ]
  }
 ],
 "metadata": {
  "language_info": {
   "name": "python"
  }
 },
 "nbformat": 4,
 "nbformat_minor": 5
}
