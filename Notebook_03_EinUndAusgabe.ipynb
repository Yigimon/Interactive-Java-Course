{
 "cells": [
  {
   "cell_type": "markdown",
   "id": "bca4b127",
   "metadata": {},
   "source": [
    "# 💬 Kapitel 3: Ein- und Ausgabe in Java\n",
    "\n",
    "## 🎯 Lernziele\n",
    "In diesem interaktiven Kapitel lernst du:\n",
    "- ✅ Daten mit `System.out.println()` ausgeben\n",
    "- ✅ Formatierte Ausgaben mit `printf()` erstellen\n",
    "- ✅ Benutzereingaben mit `Scanner` einlesen\n",
    "- ✅ Verschiedene Datentypen korrekt abfragen\n",
    "- ✅ Interaktive Programme schreiben\n",
    "\n",
    "## 🌟 Warum ist das wichtig?\n",
    "Ohne Ein- und Ausgabe wäre dein Programm stumm! Die Kommunikation mit dem Benutzer macht Programme erst richtig nützlich.\n",
    "\n",
    "---"
   ]
  },
  {
   "cell_type": "markdown",
   "id": "b4384bb0",
   "metadata": {},
   "source": [
    "## 🔧 Java-Umgebung testen\n",
    "Starten wir mit einem einfachen Test der Ausgabe-Funktionen:"
   ]
  },
  {
   "cell_type": "code",
   "execution_count": null,
   "id": "1183b82f",
   "metadata": {
    "vscode": {
     "languageId": "java"
    }
   },
   "outputs": [],
   "source": [
    "// Test der Ausgabe-Funktionen\n",
    "System.out.println(\"💬 Java Ein-/Ausgabe ist bereit!\");\n",
    "System.out.println(\"==================================\");\n",
    "\n",
    "// Verschiedene Ausgabe-Methoden testen\n",
    "System.out.print(\"Das ist print() - \");\n",
    "System.out.print(\"ohne neue Zeile \");\n",
    "System.out.println(\"und das ist println()!\");\n",
    "\n",
    "System.out.printf(\"Formatierte Ausgabe: %.2f%n\", 3.14159);\n",
    "System.out.println(\"✅ Alles funktioniert!\");"
   ]
  },
  {
   "cell_type": "markdown",
   "id": "cbdd3756",
   "metadata": {},
   "source": [
    "## 📤 1. Ausgabe (Output) - Dein Megafon zum Benutzer\n",
    "\n",
    "### Die drei wichtigsten Ausgabe-Methoden:\n",
    "- `System.out.println()` - Gibt Text aus + neue Zeile\n",
    "- `System.out.print()` - Gibt Text aus (keine neue Zeile) \n",
    "- `System.out.printf()` - Formatierte Ausgabe mit Platzhaltern\n",
    "\n",
    "**Lass uns alle drei ausprobieren:**"
   ]
  },
  {
   "cell_type": "code",
   "execution_count": null,
   "id": "a5b5cb7f",
   "metadata": {
    "vscode": {
     "languageId": "java"
    }
   },
   "outputs": [],
   "source": [
    "// === AUSGABE-METHODEN ===\n",
    "\n",
    "// Beispiel: Schüler-Steckbrief\n",
    "String name = \"Lisa Mueller\";\n",
    "int alter = 16;\n",
    "String klasse = \"10a\";\n",
    "double durchschnitt = 2.1;\n",
    "String lieblingsfach = \"Informatik\";\n",
    "\n",
    "System.out.println(\"🎓 SCHÜLER-STECKBRIEF\");\n",
    "System.out.println(\"=====================\");\n",
    "\n",
    "// println() - jede Ausgabe in neue Zeile\n",
    "System.out.println(\"Name: \" + name);\n",
    "System.out.println(\"Alter: \" + alter + \" Jahre\");\n",
    "System.out.println(\"Klasse: \" + klasse);\n",
    "\n",
    "// print() - alles in einer Zeile\n",
    "System.out.print(\"Hobbys: \");\n",
    "System.out.print(\"Programmieren, \");\n",
    "System.out.print(\"Lesen, \");\n",
    "System.out.println(\"Gaming\");  // println() am Ende für neue Zeile\n",
    "\n",
    "// printf() - formatierte Ausgabe\n",
    "System.out.println(\"\\n📊 DETAILS:\");\n",
    "System.out.printf(\"Durchschnittsnote: %.1f%n\", durchschnitt);\n",
    "System.out.printf(\"Lieblingsfach: %s%n\", lieblingsfach);\n",
    "System.out.printf(\"In %d Jahren Abitur!%n\", (18 - alter));\n",
    "\n",
    "// Schöne Boxen\n",
    "System.out.println(\"\\n╔══════════════════════╗\");\n",
    "System.out.printf(\"║ %-20s ║%n\", \"  \" + name);\n",
    "System.out.printf(\"║ Klasse: %-12s ║%n\", klasse);\n",
    "System.out.printf(\"║ Note: %.1f ⭐%-9s ║%n\", durchschnitt, \"\");\n",
    "System.out.println(\"╚══════════════════════╝\");"
   ]
  },
  {
   "cell_type": "markdown",
   "id": "286a560a",
   "metadata": {},
   "source": [
    "## 🎨 2. Formatierte Ausgabe mit printf()\n",
    "\n",
    "`printf()` ist wie ein **Textbaukasten** - du hast Platzhalter für verschiedene Datentypen:\n",
    "\n",
    "| Platzhalter | Datentyp | Beispiel |\n",
    "|-------------|----------|----------|\n",
    "| `%s` | String | `\"Max\"` |\n",
    "| `%d` | int (ganze Zahl) | `42` |\n",
    "| `%f` | double/float | `3.14159` |\n",
    "| `%.2f` | double mit 2 Nachkommastellen | `3.14` |\n",
    "| `%n` | Neue Zeile | (Zeilenumbruch) |\n",
    "\n",
    "**Lass uns eine Notenübersicht erstellen:**"
   ]
  },
  {
   "cell_type": "code",
   "execution_count": null,
   "id": "66444d55",
   "metadata": {
    "vscode": {
     "languageId": "java"
    }
   },
   "outputs": [],
   "source": [
    "// === FORMATIERTE AUSGABE ===\n",
    "\n",
    "System.out.println(\"📊 NOTENÜBERSICHT MIT PRINTF\");\n",
    "System.out.println(\"=============================\");\n",
    "\n",
    "// Verschiedene Formatierungen ausprobieren\n",
    "String fach1 = \"Mathematik\";\n",
    "String fach2 = \"Deutsch\";\n",
    "String fach3 = \"Informatik\";\n",
    "\n",
    "double note1 = 2.3;\n",
    "double note2 = 1.8;\n",
    "double note3 = 1.2;\n",
    "\n",
    "int punkte1 = 87;\n",
    "int punkte2 = 93;\n",
    "int punkte3 = 98;\n",
    "\n",
    "// Einfache printf-Beispiele\n",
    "System.out.printf(\"Schüler: %s%n\", \"Max Mustermann\");\n",
    "System.out.printf(\"Klasse: %s%n\", \"10b\");\n",
    "System.out.println();\n",
    "\n",
    "// Tabelle mit Ausrichtung\n",
    "System.out.println(\"Fach         | Note  | Punkte\");\n",
    "System.out.println(\"-------------|-------|-------\");\n",
    "System.out.printf(\"%-12s | %4.1f | %6d%n\", fach1, note1, punkte1);\n",
    "System.out.printf(\"%-12s | %4.1f | %6d%n\", fach2, note2, punkte2);\n",
    "System.out.printf(\"%-12s | %4.1f | %6d%n\", fach3, note3, punkte3);\n",
    "\n",
    "// Durchschnitt berechnen und formatiert ausgeben\n",
    "double durchschnitt = (note1 + note2 + note3) / 3.0;\n",
    "System.out.println(\"-------------|-------|-------\");\n",
    "System.out.printf(\"%-12s | %4.1f | %6s%n\", \"Durchschnitt\", durchschnitt, \"\");\n",
    "\n",
    "// Verschiedene Nachkommastellen\n",
    "System.out.println(\"\\n🔍 VERSCHIEDENE GENAUIGKEITEN:\");\n",
    "double pi = 3.14159265359;\n",
    "System.out.printf(\"Pi mit 0 Stellen: %.0f%n\", pi);\n",
    "System.out.printf(\"Pi mit 2 Stellen: %.2f%n\", pi);\n",
    "System.out.printf(\"Pi mit 5 Stellen: %.5f%n\", pi);\n",
    "\n",
    "// Prozentwerte\n",
    "double prozent = 87.5;\n",
    "System.out.printf(\"Erfolgsquote: %.1f%%%n\", prozent);  // %% für Prozentzeichen"
   ]
  },
  {
   "cell_type": "markdown",
   "id": "a626a614",
   "metadata": {},
   "source": [
    "## 📥 3. Eingabe (Input) - Hör dem Benutzer zu\n",
    "\n",
    "Für Eingaben brauchst du die `Scanner`-Klasse. **Wichtig:** Am Anfang `import java.util.Scanner;`!\n",
    "\n",
    "### Scanner-Methoden:\n",
    "| Methode | Datentyp | Was wird gelesen |\n",
    "|---------|----------|------------------|\n",
    "| `nextLine()` | String | Ganze Zeile bis Enter |\n",
    "| `next()` | String | Ein Wort (bis Leerzeichen) |\n",
    "| `nextInt()` | int | Ganze Zahl |\n",
    "| `nextDouble()` | double | Kommazahl |\n",
    "| `nextBoolean()` | boolean | true oder false |\n",
    "\n",
    "**⚠️ Hinweis:** In Jupyter funktioniert interaktive Eingabe anders als in normalen Java-Programmen. Hier simulieren wir Eingaben."
   ]
  },
  {
   "cell_type": "code",
   "execution_count": null,
   "id": "242518d7",
   "metadata": {
    "vscode": {
     "languageId": "java"
    }
   },
   "outputs": [],
   "source": [
    "// === EINGABE-SIMULATION ===\n",
    "// In einem normalen Java-Programm würdest du so Scanner verwenden:\n",
    "\n",
    "import java.util.Scanner;\n",
    "\n",
    "// Simulation von Benutzereingaben (da Jupyter interaktive Eingabe schwierig macht)\n",
    "System.out.println(\"🎮 BENUTZER-REGISTRIERUNG (Simulation)\");\n",
    "System.out.println(\"======================================\");\n",
    "\n",
    "// Simulierte Eingaben - in einem echten Programm kämen diese vom Benutzer\n",
    "String simulierterName = \"Anna Schmidt\";\n",
    "int simuliertesAlter = 17;\n",
    "String simulierteKlasse = \"11c\";\n",
    "double simulierteNote = 1.9;\n",
    "boolean simuliertGefaelltInformatik = true;\n",
    "\n",
    "// Zeige, wie die Eingabe-Prompts aussehen würden\n",
    "System.out.println(\">>> Wie heißt du? \");\n",
    "System.out.println(\"Eingabe: \" + simulierterName);\n",
    "String name = simulierterName;\n",
    "\n",
    "System.out.println(\"\\n>>> Wie alt bist du? \");\n",
    "System.out.println(\"Eingabe: \" + simuliertesAlter);\n",
    "int alter = simuliertesAlter;\n",
    "\n",
    "System.out.println(\"\\n>>> In welcher Klasse bist du? \");\n",
    "System.out.println(\"Eingabe: \" + simulierteKlasse);\n",
    "String klasse = simulierteKlasse;\n",
    "\n",
    "System.out.println(\"\\n>>> Wie ist deine Durchschnittsnote? \");\n",
    "System.out.println(\"Eingabe: \" + simulierteNote);\n",
    "double note = simulierteNote;\n",
    "\n",
    "System.out.println(\"\\n>>> Gefällt dir Informatik? (true/false) \");\n",
    "System.out.println(\"Eingabe: \" + simuliertGefaelltInformatik);\n",
    "boolean informatikGefaellt = simuliertGefaelltInformatik;\n",
    "\n",
    "// Ausgabe der gesammelten Daten\n",
    "System.out.println(\"\\n✅ REGISTRIERUNG ABGESCHLOSSEN!\");\n",
    "System.out.println(\"================================\");\n",
    "System.out.printf(\"Name: %s%n\", name);\n",
    "System.out.printf(\"Alter: %d Jahre%n\", alter);\n",
    "System.out.printf(\"Klasse: %s%n\", klasse);\n",
    "System.out.printf(\"Durchschnittsnote: %.1f%n\", note);\n",
    "System.out.printf(\"Informatik gefällt: %s%n\", informatikGefaellt ? \"Ja! 😊\" : \"Nein 😔\");"
   ]
  },
  {
   "cell_type": "markdown",
   "id": "9e867735",
   "metadata": {},
   "source": [
    "## 🏋️ 4. Aufgaben zum Üben\n",
    "\n",
    "**Aufgabe 1: Persönlicher Assistent**\n",
    "Sammle Informationen über eine Person und gib sie schön formatiert aus.\n",
    "\n",
    "**Aufgabe 2: Einfacher Taschenrechner** \n",
    "Nimm zwei Zahlen entgegen und berechne alle Grundrechenarten.\n",
    "\n",
    "**Aufgabe 3: Einkaufsliste**\n",
    "Frage nach Produktname, Preis und Anzahl. Berechne den Gesamtpreis.\n",
    "\n",
    "**Aufgabe 4: Bewertungssystem**\n",
    "Nimm eine Note entgegen und bewerte sie (sehr gut, gut, befriedigend, etc.)."
   ]
  },
  {
   "cell_type": "code",
   "execution_count": null,
   "id": "fecb4e5c",
   "metadata": {
    "vscode": {
     "languageId": "java"
    }
   },
   "outputs": [],
   "source": [
    "// 🤖 AUFGABE 1: PERSÖNLICHER ASSISTENT\n",
    "// Erstelle ein Programm, das Informationen sammelt und schön ausgibt\n",
    "\n",
    "// Simulierte Eingaben - ändere diese Werte!\n",
    "String vorname = \"Max\";\n",
    "String nachname = \"Mustermann\";\n",
    "int alter = 16;\n",
    "String lieblingsfach = \"Informatik\";\n",
    "String hobby1 = \"Gaming\";\n",
    "String hobby2 = \"Programmieren\";\n",
    "double taschenGeld = 25.50;\n",
    "\n",
    "System.out.println(\"🤖 PERSÖNLICHER ASSISTENT\");\n",
    "System.out.println(\"==========================\");\n",
    "\n",
    "// TODO: Sammle die Daten (simuliert)\n",
    "System.out.println(\">>> Vorname: \" + vorname);\n",
    "System.out.println(\">>> Nachname: \" + nachname);\n",
    "System.out.println(\">>> Alter: \" + alter);\n",
    "// TODO: Ergänze weitere Eingaben\n",
    "\n",
    "// TODO: Gib eine schöne Zusammenfassung aus\n",
    "System.out.println(\"\\n📋 DEINE ZUSAMMENFASSUNG:\");\n",
    "System.out.println(\"=========================\");\n",
    "System.out.printf(\"Name: %s %s%n\", vorname, nachname);\n",
    "System.out.printf(\"Alter: %d Jahre%n\", alter);\n",
    "// TODO: Ergänze weitere formatierte Ausgaben\n",
    "\n",
    "// BONUS: Erstelle eine schöne Box um die Ausgabe"
   ]
  },
  {
   "cell_type": "markdown",
   "id": "4e8c07a5",
   "metadata": {},
   "source": [
    "## 🧪 5. Experimentierbereich\n",
    "\n",
    "**Hier kannst du eigene Ein-/Ausgabe-Experimente machen!**\n",
    "\n",
    "Probiere aus:\n",
    "- Verschiedene printf-Formatierungen\n",
    "- Schöne Boxen und Rahmen\n",
    "- Tabellen mit unterschiedlichen Daten\n",
    "- Emojis in der Ausgabe\n",
    "- Komplexe Berechnungen mit formatierter Ausgabe\n",
    "\n",
    "**Ideen für Experimente:**\n",
    "- Erstelle einen Stundenplan\n",
    "- Baue eine Preisliste\n",
    "- Designe ein Menü-System\n",
    "- Mache eine ASCII-Art-Ausgabe"
   ]
  },
  {
   "cell_type": "code",
   "execution_count": null,
   "id": "87395ba7",
   "metadata": {
    "vscode": {
     "languageId": "java"
    }
   },
   "outputs": [],
   "source": [
    "// 🧪 EXPERIMENTIERBEREICH\n",
    "// Hier kannst du eigene Ein-/Ausgabe-Experimente machen!\n",
    "\n",
    "// Beispiel: Schöner Stundenplan\n",
    "System.out.println(\"📅 MEIN STUNDENPLAN\");\n",
    "System.out.println(\"╔═══════════╦═══════════╦═══════════╗\");\n",
    "System.out.printf(\"║ %-9s ║ %-9s ║ %-9s ║%n\", \"Montag\", \"Dienstag\", \"Mittwoch\");\n",
    "System.out.println(\"╠═══════════╬═══════════╬═══════════╣\");\n",
    "System.out.printf(\"║ %-9s ║ %-9s ║ %-9s ║%n\", \"Mathe\", \"Deutsch\", \"Sport\");\n",
    "System.out.printf(\"║ %-9s ║ %-9s ║ %-9s ║%n\", \"Physik\", \"Englisch\", \"Kunst\");\n",
    "System.out.println(\"╚═══════════╩═══════════╩═══════════╝\");\n",
    "\n",
    "// TODO: Deine eigenen Experimente hier!"
   ]
  },
  {
   "cell_type": "code",
   "execution_count": null,
   "id": "1ed51b1d",
   "metadata": {
    "vscode": {
     "languageId": "java"
    }
   },
   "outputs": [],
   "source": [
    "// 🧪 Experimentierbereich - Probiere hier eigene Ein-/Ausgaben aus!\n",
    "\n",
    "// Dein Code hier..."
   ]
  }
 ],
 "metadata": {
  "language_info": {
   "name": "python"
  }
 },
 "nbformat": 4,
 "nbformat_minor": 5
}
