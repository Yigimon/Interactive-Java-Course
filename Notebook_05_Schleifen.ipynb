{
 "cells": [
  {
   "cell_type": "markdown",
   "id": "d7ad93df",
   "metadata": {},
   "source": [
    "# 🔄 Kapitel 5: Schleifen in Java\n",
    "*Von der Wiederholung zur Eleganz*\n",
    "\n",
    "## 📚 Was lernst du hier?\n",
    "\n",
    "In diesem interaktiven Notebook entdeckst du:\n",
    "- **for-Schleifen**: Für bekannte Wiederholungsanzahl\n",
    "- **while-Schleifen**: Für bedingungsbasierte Wiederholungen  \n",
    "- **do-while-Schleifen**: Mindestens einmal ausführen\n",
    "- **Enhanced for-Schleifen** (for-each): Für Collections\n",
    "- **Schleifen-Kontrolle**: break und continue\n",
    "- **Praktische Anwendungen**: Muster, Berechnungen, Datenverarbeitung\n",
    "\n",
    "💡 **Tipp**: Führe jede Code-Zelle aus und experimentiere mit den Werten!"
   ]
  },
  {
   "cell_type": "code",
   "execution_count": null,
   "id": "feb31fe5",
   "metadata": {
    "vscode": {
     "languageId": "java"
    }
   },
   "outputs": [],
   "source": [
    "// 🧪 Teste deine Java-Umgebung\n",
    "System.out.println(\"🔄 Willkommen zum Schleifen-Kapitel!\");\n",
    "System.out.println(\"Java-Version: \" + System.getProperty(\"java.version\"));\n",
    "System.out.println(\"Bereit für Wiederholungen! 🚀\");\n",
    "\n",
    "// Erste einfache Schleife als Test\n",
    "for (int i = 1; i <= 3; i++) {\n",
    "    System.out.println(\"Test \" + i + \" ✓\");\n",
    "}"
   ]
  },
  {
   "cell_type": "markdown",
   "id": "00066b86",
   "metadata": {},
   "source": [
    "## 🎯 1. For-Schleifen: Der Klassiker\n",
    "\n",
    "Die for-Schleife ist perfekt, wenn du weißt, wie oft etwas wiederholt werden soll.\n",
    "\n",
    "**Aufbau:**\n",
    "```java\n",
    "for (Initialisierung; Bedingung; Inkrement) {\n",
    "    // Code, der wiederholt wird\n",
    "}\n",
    "```\n",
    "\n",
    "**Beispiele:**"
   ]
  },
  {
   "cell_type": "code",
   "execution_count": null,
   "id": "a12005d3",
   "metadata": {
    "vscode": {
     "languageId": "java"
    }
   },
   "outputs": [],
   "source": [
    "// 🔢 Grundlegende for-Schleifen\n",
    "System.out.println(\"=== Zahlen von 1 bis 5 ===\");\n",
    "for (int i = 1; i <= 5; i++) {\n",
    "    System.out.println(\"Zahl: \" + i);\n",
    "}\n",
    "\n",
    "System.out.println(\"\\n=== Rückwärts zählen ===\");\n",
    "for (int i = 10; i >= 5; i--) {\n",
    "    System.out.println(\"Countdown: \" + i);\n",
    "}\n",
    "\n",
    "System.out.println(\"\\n=== Nur gerade Zahlen ===\");\n",
    "for (int i = 2; i <= 10; i += 2) {\n",
    "    System.out.println(\"Gerade: \" + i);\n",
    "}\n",
    "\n",
    "System.out.println(\"\\n=== Quadratzahlen ===\");\n",
    "for (int i = 1; i <= 5; i++) {\n",
    "    System.out.println(i + \"² = \" + (i * i));\n",
    "}\n",
    "\n",
    "System.out.println(\"\\n=== String wiederholen ===\");\n",
    "for (int i = 0; i < 3; i++) {\n",
    "    System.out.println(\"Java macht Spaß! 🎉\");\n",
    "}"
   ]
  },
  {
   "cell_type": "markdown",
   "id": "722aea33",
   "metadata": {},
   "source": [
    "## 🔄 2. While-Schleifen: Bedingungsbasiert\n",
    "\n",
    "Die while-Schleife läuft solange, wie eine Bedingung wahr ist.\n",
    "\n",
    "**Aufbau:**\n",
    "```java\n",
    "while (Bedingung) {\n",
    "    // Code, der wiederholt wird\n",
    "    // Vergiss nicht, die Bedingung zu ändern!\n",
    "}\n",
    "```\n",
    "\n",
    "⚠️ **Achtung**: Stelle sicher, dass die Bedingung irgendwann false wird, sonst hast du eine Endlosschleife!"
   ]
  },
  {
   "cell_type": "code",
   "execution_count": null,
   "id": "cd5b1210",
   "metadata": {
    "vscode": {
     "languageId": "java"
    }
   },
   "outputs": [],
   "source": [
    "// 🔄 While-Schleifen Beispiele\n",
    "System.out.println(\"=== Einfache while-Schleife ===\");\n",
    "int zähler = 1;\n",
    "while (zähler <= 5) {\n",
    "    System.out.println(\"Durchlauf: \" + zähler);\n",
    "    zähler++; // Wichtig: Zähler erhöhen!\n",
    "}\n",
    "\n",
    "System.out.println(\"\\n=== Zahlenraten (vereinfacht) ===\");\n",
    "int geheimZahl = 7;\n",
    "int versuch = 1;\n",
    "while (versuch != geheimZahl) {\n",
    "    System.out.println(\"Versuch \" + versuch + \" ist falsch!\");\n",
    "    versuch++;\n",
    "    if (versuch > 10) break; // Sicherheit gegen Endlosschleife\n",
    "}\n",
    "if (versuch == geheimZahl) {\n",
    "    System.out.println(\"Richtig! Die Zahl war \" + geheimZahl);\n",
    "}\n",
    "\n",
    "System.out.println(\"\\n=== Potenz berechnen ===\");\n",
    "int basis = 2;\n",
    "int exponent = 4;\n",
    "int ergebnis = 1;\n",
    "int i = 0;\n",
    "while (i < exponent) {\n",
    "    ergebnis *= basis;\n",
    "    i++;\n",
    "    System.out.println(\"Schritt \" + (i) + \": \" + ergebnis);\n",
    "}\n",
    "System.out.println(basis + \"^\" + exponent + \" = \" + ergebnis);"
   ]
  },
  {
   "cell_type": "markdown",
   "id": "24de155e",
   "metadata": {},
   "source": [
    "## 🎪 3. Do-While-Schleifen: Mindestens einmal\n",
    "\n",
    "Die do-while-Schleife führt den Code mindestens einmal aus, bevor sie die Bedingung prüft.\n",
    "\n",
    "## 🎮 4. Schleifen-Kontrolle: break und continue\n",
    "\n",
    "- **break**: Verlässt die Schleife sofort\n",
    "- **continue**: Springt zum nächsten Durchlauf"
   ]
  },
  {
   "cell_type": "code",
   "execution_count": null,
   "id": "af497cb4",
   "metadata": {
    "vscode": {
     "languageId": "java"
    }
   },
   "outputs": [],
   "source": [
    "// 🎪 Do-While und Schleifen-Kontrolle\n",
    "System.out.println(\"=== Do-While Beispiel ===\");\n",
    "int x = 10;\n",
    "do {\n",
    "    System.out.println(\"Wird mindestens einmal ausgeführt: \" + x);\n",
    "    x++;\n",
    "} while (x < 10); // Bedingung ist bereits false!\n",
    "\n",
    "System.out.println(\"\\n=== Break Beispiel ===\");\n",
    "for (int i = 1; i <= 10; i++) {\n",
    "    if (i == 6) {\n",
    "        System.out.println(\"Bei 6 stoppen wir!\");\n",
    "        break; // Verlässt die Schleife\n",
    "    }\n",
    "    System.out.println(\"Zahl: \" + i);\n",
    "}\n",
    "\n",
    "System.out.println(\"\\n=== Continue Beispiel ===\");\n",
    "for (int i = 1; i <= 10; i++) {\n",
    "    if (i % 2 == 0) {\n",
    "        continue; // Überspringt gerade Zahlen\n",
    "    }\n",
    "    System.out.println(\"Ungerade Zahl: \" + i);\n",
    "}\n",
    "\n",
    "System.out.println(\"\\n=== Praktisches Beispiel: Nur positive Zahlen ===\");\n",
    "int[] zahlen = {5, -2, 8, -1, 0, 3, -4};\n",
    "int summe = 0;\n",
    "for (int zahl : zahlen) {\n",
    "    if (zahl <= 0) {\n",
    "        continue; // Negative und Null überspringen\n",
    "    }\n",
    "    summe += zahl;\n",
    "    System.out.println(\"Addiere: \" + zahl + \" (Summe: \" + summe + \")\");\n",
    "}\n",
    "System.out.println(\"Endsumme der positiven Zahlen: \" + summe);"
   ]
  },
  {
   "cell_type": "markdown",
   "id": "73d299b9",
   "metadata": {},
   "source": [
    "## 🎯 Aufgaben zum Üben\n",
    "\n",
    "### Aufgabe 1: Stern-Muster\n",
    "Erstelle mit einer Schleife folgendes Muster:\n",
    "```\n",
    "*\n",
    "**\n",
    "***\n",
    "****\n",
    "*****\n",
    "```\n",
    "\n",
    "### Aufgabe 2: Fakultät berechnen\n",
    "Berechne die Fakultät einer Zahl (z.B. 5! = 5×4×3×2×1 = 120)\n",
    "\n",
    "### Aufgabe 3: Fibonacci-Folge\n",
    "Gib die ersten 10 Zahlen der Fibonacci-Folge aus (0, 1, 1, 2, 3, 5, 8, ...)"
   ]
  },
  {
   "cell_type": "code",
   "execution_count": null,
   "id": "0999d8e8",
   "metadata": {
    "vscode": {
     "languageId": "java"
    }
   },
   "outputs": [],
   "source": [
    "// 🚀 Lösungsbereich für die Aufgaben\n",
    "System.out.println(\"=== Aufgabe 1: Stern-Muster ===\");\n",
    "for (int i = 1; i <= 5; i++) {\n",
    "    for (int j = 1; j <= i; j++) {\n",
    "        System.out.print(\"*\");\n",
    "    }\n",
    "    System.out.println(); // Neue Zeile\n",
    "}\n",
    "\n",
    "System.out.println(\"\\n=== Aufgabe 2: Fakultät von 5 ===\");\n",
    "int zahl = 5;\n",
    "int fakultät = 1;\n",
    "for (int i = 1; i <= zahl; i++) {\n",
    "    fakultät *= i;\n",
    "    System.out.println(\"Schritt \" + i + \": \" + fakultät);\n",
    "}\n",
    "System.out.println(zahl + \"! = \" + fakultät);\n",
    "\n",
    "System.out.println(\"\\n=== Aufgabe 3: Fibonacci-Folge ===\");\n",
    "int a = 0, b = 1;\n",
    "System.out.print(\"Fibonacci: \" + a + \", \" + b);\n",
    "for (int i = 2; i < 10; i++) {\n",
    "    int nächste = a + b;\n",
    "    System.out.print(\", \" + nächste);\n",
    "    a = b;\n",
    "    b = nächste;\n",
    "}\n",
    "System.out.println();"
   ]
  },
  {
   "cell_type": "markdown",
   "id": "bd9a9082",
   "metadata": {},
   "source": [
    "## 🧪 Experimentierbereich\n",
    "Hier kannst du mit verschiedenen Schleifen experimentieren:"
   ]
  },
  {
   "cell_type": "code",
   "execution_count": null,
   "id": "64154b38",
   "metadata": {
    "vscode": {
     "languageId": "java"
    }
   },
   "outputs": [],
   "source": [
    "// 🧪 Experimentierbereich - Teste deine eigenen Schlefen-Ideen!\n",
    "// Versuche verschiedene Schleifen-Kombinationen\n",
    "\n",
    "// Beispiel: Multiplikationstabelle\n",
    "int basis = 7;\n",
    "System.out.println(\"Multiplikationstabelle für \" + basis + \":\");\n",
    "for (int i = 1; i <= 10; i++) {\n",
    "    System.out.println(basis + \" × \" + i + \" = \" + (basis * i));\n",
    "}\n",
    "\n",
    "// Dein Code hier..."
   ]
  },
  {
   "cell_type": "code",
   "execution_count": null,
   "id": "6d45fd3b",
   "metadata": {
    "vscode": {
     "languageId": "java"
    }
   },
   "outputs": [],
   "source": [
    "// 🧪 Experimentierbereich - Probiere hier eigene Schleifen aus!\n",
    "\n",
    "// Dein Code hier..."
   ]
  }
 ],
 "metadata": {
  "language_info": {
   "name": "python"
  }
 },
 "nbformat": 4,
 "nbformat_minor": 5
}
