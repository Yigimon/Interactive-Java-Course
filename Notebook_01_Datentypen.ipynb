{
 "cells": [
  {
   "cell_type": "markdown",
   "id": "82f3682e",
   "metadata": {},
   "source": [
    "# 📊 Java Datentypen - Interaktives Notebook\n",
    "\n",
    "## 🎯 Lernziele\n",
    "Nach diesem Notebook können Sie:\n",
    "- ✅ Alle Java-Datentypen verstehen und anwenden\n",
    "- ✅ Variablen deklarieren und initialisieren  \n",
    "- ✅ Typumwandlungen durchführen\n",
    "- ✅ Häufige Fehler vermeiden\n",
    "\n",
    "## 📚 Vorbereitung\n",
    "**Lesen Sie zuerst:** `01_Datentypen_Theorie.md` für die vollständige Theorie!\n",
    "\n",
    "## 🚀 Los geht's!\n",
    "Führen Sie jede Code-Zelle aus und experimentieren Sie mit den Werten!"
   ]
  },
  {
   "cell_type": "markdown",
   "id": "2d2f7917",
   "metadata": {},
   "source": [
    "## 🔧 Java-Umgebung einrichten\n",
    "\n",
    "Führen Sie diese Zelle aus, um sicherzustellen, dass Java funktioniert:"
   ]
  },
  {
   "cell_type": "code",
   "execution_count": null,
   "id": "d567ba86",
   "metadata": {
    "vscode": {
     "languageId": "java"
    }
   },
   "outputs": [],
   "source": [
    "// Test: Java funktioniert\n",
    "System.out.println(\"🎉 Java ist bereit!\");\n",
    "System.out.println(\"Java Version: \" + System.getProperty(\"java.version\"));"
   ]
  },
  {
   "cell_type": "markdown",
   "id": "6e029fa5",
   "metadata": {},
   "source": [
    "## 🔢 Ganze Zahlen (Integer-Typen)\n",
    "\n",
    "Java hat 4 verschiedene Typen für ganze Zahlen:\n",
    "- `byte`: -128 bis 127 (sehr kleine Zahlen)\n",
    "- `short`: -32.768 bis 32.767 (kleine Zahlen)  \n",
    "- `int`: -2 Milliarden bis +2 Milliarden (Standard)\n",
    "- `long`: Riesige Zahlen (mit L am Ende)"
   ]
  },
  {
   "cell_type": "code",
   "execution_count": null,
   "id": "279ccf34",
   "metadata": {
    "vscode": {
     "languageId": "java"
    }
   },
   "outputs": [],
   "source": [
    "// Verschiedene Integer-Typen ausprobieren\n",
    "byte meinAlter = 16;\n",
    "short schuelerzahl = 1200;\n",
    "int einwohnerDeutschland = 83000000;\n",
    "long weltbevoelkerung = 8000000000L;  // Das L ist wichtig!\n",
    "\n",
    "System.out.println(\"=== GANZE ZAHLEN ===\");\n",
    "System.out.println(\"Mein Alter (byte): \" + meinAlter);\n",
    "System.out.println(\"Schülerzahl (short): \" + schuelerzahl);\n",
    "System.out.println(\"Einwohner Deutschland (int): \" + einwohnerDeutschland);\n",
    "System.out.println(\"Weltbevölkerung (long): \" + weltbevoelkerung);\n",
    "\n",
    "// Grenzen testen\n",
    "System.out.println(\"\\nGrenzen der Datentypen:\");\n",
    "System.out.println(\"Byte max: \" + Byte.MAX_VALUE);\n",
    "System.out.println(\"Int max: \" + Integer.MAX_VALUE);\n",
    "System.out.println(\"Long max: \" + Long.MAX_VALUE);"
   ]
  },
  {
   "cell_type": "markdown",
   "id": "913a106b",
   "metadata": {},
   "source": [
    "## 💰 Dezimalzahlen (Floating-Point)\n",
    "\n",
    "Für Zahlen mit Komma gibt es:\n",
    "- `float`: ~7 Nachkommastellen (mit f am Ende)\n",
    "- `double`: ~15 Nachkommastellen (Standard für Kommazahlen)"
   ]
  },
  {
   "cell_type": "code",
   "execution_count": null,
   "id": "88525763",
   "metadata": {
    "vscode": {
     "languageId": "java"
    }
   },
   "outputs": [],
   "source": [
    "// Dezimalzahlen verwenden\n",
    "float preis = 19.99f;    // Das f ist wichtig!\n",
    "double note = 2.3;\n",
    "double pi = 3.141592653589793;\n",
    "double körpergröße = 1.75;\n",
    "\n",
    "System.out.println(\"=== DEZIMALZAHLEN ===\");\n",
    "System.out.println(\"Preis (float): \" + preis + \"€\");\n",
    "System.out.println(\"Note (double): \" + note);\n",
    "System.out.printf(\"Pi (formatiert): %.2f%n\", pi);\n",
    "System.out.println(\"Körpergröße: \" + körpergröße + \"m\");\n",
    "\n",
    "// Berechnungen mit Dezimalzahlen\n",
    "double bmi = 70.5 / (körpergröße * körpergröße);\n",
    "System.out.printf(\"BMI: %.1f%n\", bmi);"
   ]
  },
  {
   "cell_type": "markdown",
   "id": "ba14cfcb",
   "metadata": {},
   "source": [
    "## ✅ Wahrheitswerte und Zeichen\n",
    "\n",
    "- `boolean`: Nur `true` oder `false`\n",
    "- `char`: Einzelne Zeichen in einfachen Anführungszeichen `'A'`"
   ]
  },
  {
   "cell_type": "code",
   "execution_count": null,
   "id": "497e4cea",
   "metadata": {
    "vscode": {
     "languageId": "java"
    }
   },
   "outputs": [],
   "source": [
    "// Boolean und Char verwenden\n",
    "boolean istSchüler = true;\n",
    "boolean hatBestanden = false;\n",
    "boolean istWochenende = (7 % 7 == 0);  // Bedingung ergibt boolean\n",
    "\n",
    "char noteBuchstabe = 'A';\n",
    "char symbol = '★';\n",
    "char ziffer = '5';\n",
    "\n",
    "System.out.println(\"=== WAHRHEITSWERTE ===\");\n",
    "System.out.println(\"Ist Schüler: \" + istSchüler);\n",
    "System.out.println(\"Hat bestanden: \" + hatBestanden);\n",
    "System.out.println(\"Ist Wochenende: \" + istWochenende);\n",
    "\n",
    "System.out.println(\"\\n=== ZEICHEN ===\");\n",
    "System.out.println(\"Note als Buchstabe: \" + noteBuchstabe);\n",
    "System.out.println(\"Symbol: \" + symbol);\n",
    "System.out.println(\"Ziffer als Zeichen: \" + ziffer);"
   ]
  },
  {
   "cell_type": "markdown",
   "id": "3569c3c2",
   "metadata": {},
   "source": [
    "## 📚 Texte (Strings)\n",
    "\n",
    "`String` für längere Texte in doppelten Anführungszeichen `\"Text\"`"
   ]
  },
  {
   "cell_type": "code",
   "execution_count": null,
   "id": "b982b7a9",
   "metadata": {
    "vscode": {
     "languageId": "java"
    }
   },
   "outputs": [],
   "source": [
    "// Strings verwenden\n",
    "String name = \"Max Mustermann\";\n",
    "String schule = \"Gymnasium Beispielstadt\";\n",
    "String lieblingsfach = \"Informatik\";\n",
    "String leerString = \"\";\n",
    "\n",
    "System.out.println(\"=== TEXTE ===\");\n",
    "System.out.println(\"Name: \" + name);\n",
    "System.out.println(\"Schule: \" + schule);\n",
    "System.out.println(\"Lieblingsfach: \" + lieblingsfach);\n",
    "\n",
    "// String-Operationen\n",
    "String vollName = \"Max\" + \" \" + \"Mustermann\";  // Konkatenation\n",
    "System.out.println(\"Zusammengesetzt: \" + vollName);\n",
    "System.out.println(\"Länge des Namens: \" + name.length());\n",
    "System.out.println(\"Großbuchstaben: \" + name.toUpperCase());"
   ]
  },
  {
   "cell_type": "markdown",
   "id": "90f4a3cb",
   "metadata": {},
   "source": [
    "## 🎯 AUFGABE: Erstellen Sie Ihren digitalen Steckbrief!\n",
    "\n",
    "**Ihre Aufgabe:**\n",
    "1. Erstellen Sie Variablen für Ihre persönlichen Daten\n",
    "2. Verwenden Sie die **passenden Datentypen**\n",
    "3. Geben Sie alles schön formatiert aus\n",
    "\n",
    "**Benötigte Variablen:**\n",
    "- Ihr Name (String)\n",
    "- Ihr Alter (int)\n",
    "- Ihre Körpergröße in Metern (double)\n",
    "- Sind Sie Schüler? (boolean)\n",
    "- Ihr Lieblingsbuchstabe (char)\n",
    "- Ihr Lieblingsfach (String)"
   ]
  },
  {
   "cell_type": "code",
   "execution_count": null,
   "id": "4291e474",
   "metadata": {
    "vscode": {
     "languageId": "java"
    }
   },
   "outputs": [],
   "source": [
    "// TODO: Ihre persönlichen Daten hier eintragen!\n",
    "String meinName = \"Ihr Name hier\";\n",
    "int meinAlter = 0;  // Ihr Alter\n",
    "double meineGröße = 0.0;  // in Metern, z.B. 1.75\n",
    "boolean binSchüler = true;  // oder false\n",
    "char meinLieblingsbuchstabe = 'X';  // Ihr Lieblingsbuchstabe\n",
    "String meinLieblingsfach = \"Ihr Fach\";\n",
    "\n",
    "// Berechnungen\n",
    "int geburtsjahr = 2025 - meinAlter;\n",
    "int größeInCm = (int) (meineGröße * 100);\n",
    "\n",
    "// Schöne Ausgabe\n",
    "System.out.println(\"╔══════════════════════════╗\");\n",
    "System.out.println(\"║       MEIN STECKBRIEF    ║\");\n",
    "System.out.println(\"╠══════════════════════════╣\");\n",
    "System.out.printf(\"║ Name: %-18s ║%n\", meinName);\n",
    "System.out.printf(\"║ Alter: %-17d ║%n\", meinAlter);\n",
    "System.out.printf(\"║ Größe: %-17d cm ║%n\", größeInCm);\n",
    "System.out.printf(\"║ Geburtsjahr: %-12d ║%n\", geburtsjahr);\n",
    "System.out.printf(\"║ Bin Schüler: %-12s ║%n\", binSchüler);\n",
    "System.out.printf(\"║ Lieblingsbuchstabe: %-6c ║%n\", meinLieblingsbuchstabe);\n",
    "System.out.printf(\"║ Lieblingsfach: %-11s ║%n\", meinLieblingsfach);\n",
    "System.out.println(\"╚══════════════════════════╝\");"
   ]
  },
  {
   "cell_type": "markdown",
   "id": "0348ac64",
   "metadata": {},
   "source": [
    "## 🔬 Experimentierbereich\n",
    "\n",
    "Probieren Sie hier verschiedene Dinge aus:\n",
    "- Was passiert bei Typumwandlungen?\n",
    "- Testen Sie die Grenzen der Datentypen!\n",
    "- Experimentieren Sie mit String-Operationen!"
   ]
  },
  {
   "cell_type": "code",
   "execution_count": null,
   "id": "d6031c89",
   "metadata": {
    "vscode": {
     "languageId": "java"
    }
   },
   "outputs": [],
   "source": [
    "// Experimentieren Sie hier!\n",
    "\n",
    "// 1. Typumwandlungen testen\n",
    "double kommaZahl = 3.7;\n",
    "int ganzeZahl = (int) kommaZahl;  // Was passiert hier?\n",
    "System.out.println(\"3.7 als int: \" + ganzeZahl);\n",
    "\n",
    "// 2. Grenzen testen - was passiert hier?\n",
    "byte maxByte = 127;\n",
    "// byte überByte = 128;  // Entkommentieren und testen!\n",
    "\n",
    "// 3. String-Tricks\n",
    "String zahl1 = \"5\";\n",
    "String zahl2 = \"3\";\n",
    "System.out.println(\"String-Addition: \" + zahl1 + zahl2);  // Was kommt raus?\n",
    "\n",
    "int intZahl1 = Integer.parseInt(zahl1);\n",
    "int intZahl2 = Integer.parseInt(zahl2);\n",
    "System.out.println(\"Echte Addition: \" + (intZahl1 + intZahl2));\n",
    "\n",
    "// 4. Ihre eigenen Experimente hier:"
   ]
  },
  {
   "cell_type": "code",
   "execution_count": null,
   "id": "5754d344",
   "metadata": {
    "vscode": {
     "languageId": "java"
    }
   },
   "outputs": [],
   "source": [
    "// 🧪 Experimentierbereich - Probiere hier eigene Datentypen aus!\n",
    "\n",
    "// Dein Code hier..."
   ]
  }
 ],
 "metadata": {
  "language_info": {
   "name": "python"
  }
 },
 "nbformat": 4,
 "nbformat_minor": 5
}
