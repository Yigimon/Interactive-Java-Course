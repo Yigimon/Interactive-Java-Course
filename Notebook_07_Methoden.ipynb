{
 "cells": [
  {
   "cell_type": "markdown",
   "id": "45f7b20c",
   "metadata": {},
   "source": [
    "# 🔧 Kapitel 7: Methoden in Java\n",
    "*Code organisieren und wiederverwenden*\n",
    "\n",
    "## 📚 Was lernst du hier?\n",
    "\n",
    "In diesem interaktiven Notebook entdeckst du:\n",
    "- **Methoden-Grundlagen**: Aufbau und Aufrufe\n",
    "- **Parameter und Rückgabewerte**: Daten übergeben und erhalten\n",
    "- **Überladung**: Gleicher Name, verschiedene Parameter\n",
    "- **Static vs. Instance**: Klassenmethoden vs. Objektmethoden\n",
    "- **Rekursion**: Methoden, die sich selbst aufrufen\n",
    "- **Praktische Anwendungen**: Berechnungen, Validierung, Utilities\n",
    "\n",
    "💡 **Tipp**: Methoden sind der Schlüssel zu sauberem, wiederverwendbarem Code!"
   ]
  },
  {
   "cell_type": "code",
   "execution_count": null,
   "id": "6bafc6b9",
   "metadata": {
    "vscode": {
     "languageId": "java"
    }
   },
   "outputs": [],
   "source": [
    "// 🔧 Methoden-Grundlagen\n",
    "System.out.println(\"🔧 Willkommen zum Methoden-Kapitel!\");\n",
    "\n",
    "// Einfache Methode ohne Parameter und Rückgabe\n",
    "public static void begrüßung() {\n",
    "    System.out.println(\"Hallo aus einer Methode!\");\n",
    "}\n",
    "\n",
    "// Methode mit Parameter\n",
    "public static void sagHallo(String name) {\n",
    "    System.out.println(\"Hallo, \" + name + \"!\");\n",
    "}\n",
    "\n",
    "// Methode mit Rückgabewert\n",
    "public static int addiere(int a, int b) {\n",
    "    return a + b;\n",
    "}\n",
    "\n",
    "// Methode mit mehreren Parametern und Rückgabe\n",
    "public static double berechneKreisFläche(double radius) {\n",
    "    return Math.PI * radius * radius;\n",
    "}\n",
    "\n",
    "// Methoden aufrufen\n",
    "begrüßung();\n",
    "sagHallo(\"Anna\");\n",
    "sagHallo(\"Bob\");\n",
    "\n",
    "int summe = addiere(15, 25);\n",
    "System.out.println(\"15 + 25 = \" + summe);\n",
    "\n",
    "double fläche = berechneKreisFläche(5.0);\n",
    "System.out.println(\"Kreisfläche (r=5): \" + String.format(\"%.2f\", fläche));"
   ]
  },
  {
   "cell_type": "code",
   "execution_count": null,
   "id": "b395866b",
   "metadata": {
    "vscode": {
     "languageId": "java"
    }
   },
   "outputs": [],
   "source": [
    "// 🎯 Erweiterte Methoden-Konzepte\n",
    "\n",
    "// Überladung: Gleicher Name, verschiedene Parameter\n",
    "public static int maximum(int a, int b) {\n",
    "    return (a > b) ? a : b;\n",
    "}\n",
    "\n",
    "public static double maximum(double a, double b) {\n",
    "    return (a > b) ? a : b;\n",
    "}\n",
    "\n",
    "public static int maximum(int a, int b, int c) {\n",
    "    return maximum(maximum(a, b), c);\n",
    "}\n",
    "\n",
    "// Array-Parameter\n",
    "public static double durchschnitt(int[] zahlen) {\n",
    "    if (zahlen.length == 0) return 0;\n",
    "    int summe = 0;\n",
    "    for (int zahl : zahlen) {\n",
    "        summe += zahl;\n",
    "    }\n",
    "    return (double) summe / zahlen.length;\n",
    "}\n",
    "\n",
    "// Rekursive Methode (Fakultät)\n",
    "public static long fakultät(int n) {\n",
    "    if (n <= 1) return 1;\n",
    "    return n * fakultät(n - 1);\n",
    "}\n",
    "\n",
    "// Methoden testen\n",
    "System.out.println(\"=== Überladung ===\");\n",
    "System.out.println(\"max(5, 8): \" + maximum(5, 8));\n",
    "System.out.println(\"max(3.14, 2.71): \" + maximum(3.14, 2.71));\n",
    "System.out.println(\"max(1, 5, 3): \" + maximum(1, 5, 3));\n",
    "\n",
    "System.out.println(\"\\n=== Array-Parameter ===\");\n",
    "int[] werte = {10, 20, 30, 40, 50};\n",
    "System.out.println(\"Durchschnitt: \" + durchschnitt(werte));\n",
    "\n",
    "System.out.println(\"\\n=== Rekursion ===\");\n",
    "System.out.println(\"5! = \" + fakultät(5));\n",
    "System.out.println(\"7! = \" + fakultät(7));"
   ]
  },
  {
   "cell_type": "markdown",
   "id": "d9aa4b9e",
   "metadata": {},
   "source": [
    "## 🎯 Aufgaben zum Üben\n",
    "\n",
    "### Aufgabe 1: Primzahl-Checker\n",
    "Schreibe eine Methode `istPrimzahl(int zahl)`, die prüft, ob eine Zahl eine Primzahl ist.\n",
    "\n",
    "### Aufgabe 2: Array-Utilities\n",
    "Erstelle Methoden für:\n",
    "- `findeMinimum(int[] array)`\n",
    "- `findeMaximum(int[] array)`\n",
    "- `sortiereArray(int[] array)`\n",
    "\n",
    "### Aufgabe 3: String-Utilities\n",
    "Schreibe Methoden für:\n",
    "- `zähleVokale(String text)`\n",
    "- `kehreUm(String text)`\n",
    "\n",
    "## 🧪 Experimentierbereich\n",
    "Teste deine eigenen Methoden:"
   ]
  },
  {
   "cell_type": "code",
   "execution_count": null,
   "id": "adb3baff",
   "metadata": {
    "vscode": {
     "languageId": "java"
    }
   },
   "outputs": [],
   "source": [
    "// 🚀 Lösungsbereich und Experimentierbereich\n",
    "\n",
    "// Aufgabe 1: Primzahl-Checker\n",
    "public static boolean istPrimzahl(int zahl) {\n",
    "    if (zahl < 2) return false;\n",
    "    for (int i = 2; i <= Math.sqrt(zahl); i++) {\n",
    "        if (zahl % i == 0) return false;\n",
    "    }\n",
    "    return true;\n",
    "}\n",
    "\n",
    "// Aufgabe 2: Array-Utilities\n",
    "public static int findeMinimum(int[] array) {\n",
    "    int min = array[0];\n",
    "    for (int wert : array) {\n",
    "        if (wert < min) min = wert;\n",
    "    }\n",
    "    return min;\n",
    "}\n",
    "\n",
    "public static int findeMaximum(int[] array) {\n",
    "    int max = array[0];\n",
    "    for (int wert : array) {\n",
    "        if (wert > max) max = wert;\n",
    "    }\n",
    "    return max;\n",
    "}\n",
    "\n",
    "// Aufgabe 3: String-Utilities\n",
    "public static int zähleVokale(String text) {\n",
    "    int anzahl = 0;\n",
    "    String vokale = \"aeiouAEIOU\";\n",
    "    for (char c : text.toCharArray()) {\n",
    "        if (vokale.indexOf(c) != -1) anzahl++;\n",
    "    }\n",
    "    return anzahl;\n",
    "}\n",
    "\n",
    "public static String kehreUm(String text) {\n",
    "    StringBuilder umgekehrt = new StringBuilder();\n",
    "    for (int i = text.length() - 1; i >= 0; i--) {\n",
    "        umgekehrt.append(text.charAt(i));\n",
    "    }\n",
    "    return umgekehrt.toString();\n",
    "}\n",
    "\n",
    "// Tests\n",
    "System.out.println(\"=== Tests ===\");\n",
    "System.out.println(\"17 ist Primzahl: \" + istPrimzahl(17));\n",
    "System.out.println(\"15 ist Primzahl: \" + istPrimzahl(15));\n",
    "\n",
    "int[] testArray = {45, 12, 78, 23, 89};\n",
    "System.out.println(\"Minimum: \" + findeMinimum(testArray));\n",
    "System.out.println(\"Maximum: \" + findeMaximum(testArray));\n",
    "\n",
    "String testText = \"Java Programmierung\";\n",
    "System.out.println(\"Vokale in '\" + testText + \"': \" + zähleVokale(testText));\n",
    "System.out.println(\"Umgekehrt: \" + kehreUm(testText));"
   ]
  },
  {
   "cell_type": "code",
   "execution_count": null,
   "id": "d1f8e5a4",
   "metadata": {
    "vscode": {
     "languageId": "java"
    }
   },
   "outputs": [],
   "source": [
    "// 🧪 Experimentierbereich - Teste deine eigenen Methoden!\n",
    "// Hier kannst du eigene Methoden erstellen und ausprobieren\n",
    "\n",
    "// Beispiel: Erstelle eine Methode, die prüft, ob ein Wort ein Palindrom ist\n",
    "public static boolean istPalindrom(String wort) {\n",
    "    String kleinBuchstaben = wort.toLowerCase();\n",
    "    String umgekehrt = \"\";\n",
    "    for (int i = kleinBuchstaben.length() - 1; i >= 0; i--) {\n",
    "        umgekehrt += kleinBuchstaben.charAt(i);\n",
    "    }\n",
    "    return kleinBuchstaben.equals(umgekehrt);\n",
    "}\n",
    "\n",
    "// Test der Palindrom-Methode\n",
    "System.out.println(\"=== Palindrom-Test ===\");\n",
    "System.out.println(\"'radar' ist Palindrom: \" + istPalindrom(\"radar\"));\n",
    "System.out.println(\"'level' ist Palindrom: \" + istPalindrom(\"level\"));\n",
    "System.out.println(\"'hello' ist Palindrom: \" + istPalindrom(\"hello\"));\n",
    "\n",
    "System.out.println(\"\\n🚀 Jetzt bist du dran!\");\n",
    "System.out.println(\"Erstelle eigene Methoden für:\");\n",
    "System.out.println(\"- Temperatur umrechnen (Celsius ↔ Fahrenheit)\");\n",
    "System.out.println(\"- Größter gemeinsamer Teiler (GGT)\");\n",
    "System.out.println(\"- Wörter in einem Satz zählen\");\n",
    "System.out.println(\"- Eine Zahl in verschiedene Zahlensysteme umwandeln\");\n",
    "\n",
    "// ✏️ Dein Code hier:\n",
    "// Schreibe deine eigenen Methoden..."
   ]
  },
  {
   "cell_type": "code",
   "execution_count": null,
   "id": "bbe7119c",
   "metadata": {
    "vscode": {
     "languageId": "java"
    }
   },
   "outputs": [],
   "source": [
    "// 🧪 Freier Experimentierbereich - Probiere hier eigene Methoden aus!\n",
    "\n",
    "// Dein Code hier..."
   ]
  }
 ],
 "metadata": {
  "language_info": {
   "name": "python"
  }
 },
 "nbformat": 4,
 "nbformat_minor": 5
}
