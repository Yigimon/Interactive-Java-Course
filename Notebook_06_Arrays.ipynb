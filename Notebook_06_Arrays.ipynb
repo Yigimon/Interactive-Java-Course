{
 "cells": [
  {
   "cell_type": "markdown",
   "id": "75332d2e",
   "metadata": {},
   "source": [
    "# 📊 Kapitel 6: Arrays in Java\n",
    "*Daten ordentlich verwalten*\n",
    "\n",
    "## 📚 Was lernst du hier?\n",
    "\n",
    "In diesem interaktiven Notebook entdeckst du:\n",
    "- **Array-Grundlagen**: Deklaration, Initialisierung und Zugriff\n",
    "- **Eindimensionale Arrays**: Die Basis für Datensammlungen\n",
    "- **Mehrdimensionale Arrays**: Tabellen und Matrizen\n",
    "- **Array-Methoden**: Sortieren, Suchen, Kopieren\n",
    "- **Enhanced For-Loops**: Elegante Array-Durchläufe\n",
    "- **Praktische Anwendungen**: Statistiken, Spiele, Datenverarbeitung\n",
    "\n",
    "💡 **Tipp**: Arrays sind die Grundlage für viele Datenstrukturen - verstehe sie gut!"
   ]
  },
  {
   "cell_type": "code",
   "execution_count": null,
   "id": "635797ae",
   "metadata": {
    "vscode": {
     "languageId": "java"
    }
   },
   "outputs": [],
   "source": [
    "// 📊 Array-Grundlagen\n",
    "System.out.println(\"📊 Willkommen zum Array-Kapitel!\");\n",
    "\n",
    "// Verschiedene Arten, Arrays zu erstellen\n",
    "System.out.println(\"\\n=== Array-Erstellung ===\");\n",
    "\n",
    "// 1. Deklaration und Initialisierung getrennt\n",
    "int[] zahlen1 = new int[5]; // Array mit 5 Elementen (alle 0)\n",
    "zahlen1[0] = 10;\n",
    "zahlen1[1] = 20;\n",
    "zahlen1[2] = 30;\n",
    "System.out.println(\"Erstes Element: \" + zahlen1[0]);\n",
    "System.out.println(\"Array-Länge: \" + zahlen1.length);\n",
    "\n",
    "// 2. Direkte Initialisierung mit Werten\n",
    "int[] zahlen2 = {1, 2, 3, 4, 5};\n",
    "String[] namen = {\"Anna\", \"Bob\", \"Clara\", \"David\"};\n",
    "double[] preise = {19.99, 25.50, 12.00};\n",
    "\n",
    "System.out.println(\"\\nZahlen-Array: \");\n",
    "for (int i = 0; i < zahlen2.length; i++) {\n",
    "    System.out.print(zahlen2[i] + \" \");\n",
    "}\n",
    "\n",
    "System.out.println(\"\\n\\nNamen-Array: \");\n",
    "for (String name : namen) { // Enhanced for-loop\n",
    "    System.out.print(name + \" \");\n",
    "}\n",
    "System.out.println();"
   ]
  },
  {
   "cell_type": "code",
   "execution_count": null,
   "id": "f6144d81",
   "metadata": {
    "vscode": {
     "languageId": "java"
    }
   },
   "outputs": [],
   "source": [
    "// 🔧 Array-Operationen\n",
    "System.out.println(\"=== Array-Operationen ===\");\n",
    "\n",
    "int[] werte = {45, 23, 89, 12, 67, 34, 78};\n",
    "\n",
    "// Summe berechnen\n",
    "int summe = 0;\n",
    "for (int wert : werte) {\n",
    "    summe += wert;\n",
    "}\n",
    "double durchschnitt = (double) summe / werte.length;\n",
    "System.out.println(\"Summe: \" + summe);\n",
    "System.out.println(\"Durchschnitt: \" + durchschnitt);\n",
    "\n",
    "// Minimum und Maximum finden\n",
    "int min = werte[0];\n",
    "int max = werte[0];\n",
    "for (int wert : werte) {\n",
    "    if (wert < min) min = wert;\n",
    "    if (wert > max) max = wert;\n",
    "}\n",
    "System.out.println(\"Minimum: \" + min);\n",
    "System.out.println(\"Maximum: \" + max);\n",
    "\n",
    "// Array umkehren\n",
    "System.out.println(\"\\nOriginal: \");\n",
    "for (int wert : werte) System.out.print(wert + \" \");\n",
    "\n",
    "System.out.println(\"\\nUmgekehrt: \");\n",
    "for (int i = werte.length - 1; i >= 0; i--) {\n",
    "    System.out.print(werte[i] + \" \");\n",
    "}\n",
    "System.out.println();"
   ]
  },
  {
   "cell_type": "markdown",
   "id": "a473900b",
   "metadata": {},
   "source": [
    "## 🎯 Mehrdimensionale Arrays\n",
    "\n",
    "2D-Arrays sind wie Tabellen - perfekt für Spiele, Matrizen oder Tabellen.\n",
    "\n",
    "## 🎮 Aufgaben zum Üben\n",
    "\n",
    "### Aufgabe 1: Zahlen-Statistik\n",
    "Erstelle ein Array mit 10 Zufallszahlen und berechne Summe, Durchschnitt, Min und Max.\n",
    "\n",
    "### Aufgabe 2: Tic-Tac-Toe Spielfeld\n",
    "Erstelle ein 3×3 Array für ein Tic-Tac-Toe Spiel."
   ]
  },
  {
   "cell_type": "code",
   "execution_count": null,
   "id": "35915b60",
   "metadata": {
    "vscode": {
     "languageId": "java"
    }
   },
   "outputs": [],
   "source": [
    "// 🎮 2D-Arrays und Lösungen\n",
    "System.out.println(\"=== 2D-Array Beispiel ===\");\n",
    "\n",
    "// Tic-Tac-Toe Spielfeld\n",
    "char[][] spielfeld = {\n",
    "    {'X', 'O', 'X'},\n",
    "    {'O', 'X', 'O'},\n",
    "    {'X', 'O', 'X'}\n",
    "};\n",
    "\n",
    "System.out.println(\"Tic-Tac-Toe Spielfeld:\");\n",
    "for (int i = 0; i < spielfeld.length; i++) {\n",
    "    for (int j = 0; j < spielfeld[i].length; j++) {\n",
    "        System.out.print(spielfeld[i][j] + \" \");\n",
    "    }\n",
    "    System.out.println();\n",
    "}\n",
    "\n",
    "System.out.println(\"\\n=== Zahlen-Statistik ===\");\n",
    "int[] zufallsZahlen = {23, 45, 12, 78, 34, 89, 56, 67, 91, 43};\n",
    "\n",
    "int summe = 0, min = zufallsZahlen[0], max = zufallsZahlen[0];\n",
    "for (int zahl : zufallsZahlen) {\n",
    "    summe += zahl;\n",
    "    if (zahl < min) min = zahl;\n",
    "    if (zahl > max) max = zahl;\n",
    "}\n",
    "\n",
    "System.out.println(\"Array: \");\n",
    "for (int zahl : zufallsZahlen) System.out.print(zahl + \" \");\n",
    "System.out.println(\"\\nSumme: \" + summe);\n",
    "System.out.println(\"Durchschnitt: \" + (double)summe/zufallsZahlen.length);\n",
    "System.out.println(\"Minimum: \" + min);\n",
    "System.out.println(\"Maximum: \" + max);\n",
    "\n",
    "// 🧪 Experimentierbereich\n",
    "System.out.println(\"\\n🧪 Experimentiere mit Arrays!\");\n",
    "// Dein Code hier..."
   ]
  },
  {
   "cell_type": "code",
   "execution_count": null,
   "id": "4d696f73",
   "metadata": {
    "vscode": {
     "languageId": "java"
    }
   },
   "outputs": [],
   "source": [
    "// 🧪 Experimentierbereich - Probiere hier eigene Arrays aus!\n",
    "\n",
    "// Dein Code hier..."
   ]
  }
 ],
 "metadata": {
  "language_info": {
   "name": "python"
  }
 },
 "nbformat": 4,
 "nbformat_minor": 5
}
